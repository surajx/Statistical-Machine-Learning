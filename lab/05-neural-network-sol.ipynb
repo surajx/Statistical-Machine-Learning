{
 "cells": [
  {
   "cell_type": "markdown",
   "metadata": {},
   "source": [
    "# Neural Networks"
   ]
  },
  {
   "cell_type": "markdown",
   "metadata": {},
   "source": [
    "###### COMP4670/8600 - Introduction to Statistical Machine Learning - Tutorial 5"
   ]
  },
  {
   "cell_type": "markdown",
   "metadata": {},
   "source": [
    "$\\newcommand{\\trace}[1]{\\operatorname{tr}\\left\\{#1\\right\\}}$\n",
    "$\\newcommand{\\Norm}[1]{\\lVert#1\\rVert}$\n",
    "$\\newcommand{\\RR}{\\mathbb{R}}$\n",
    "$\\newcommand{\\inner}[2]{\\langle #1, #2 \\rangle}$\n",
    "$\\newcommand{\\DD}{\\mathscr{D}}$\n",
    "$\\newcommand{\\grad}[1]{\\operatorname{grad}#1}$\n",
    "$\\DeclareMathOperator*{\\argmin}{arg\\,min}$\n",
    "\n",
    "Setting up the environment"
   ]
  },
  {
   "cell_type": "code",
   "execution_count": 1,
   "metadata": {
    "collapsed": false
   },
   "outputs": [],
   "source": [
    "import matplotlib.pyplot as plt\n",
    "import numpy as np\n",
    "import pandas as pd\n",
    "\n",
    "%matplotlib inline"
   ]
  },
  {
   "cell_type": "markdown",
   "metadata": {},
   "source": [
    "## The data set\n",
    "\n",
    "We will use an old dataset on the price of housing in Boston (see [description](https://archive.ics.uci.edu/ml/datasets/Housing)). The aim is to predict the median value of the owner occupied homes from various other factors. This is the same data as was used in Tutorial 2. However, this time we will explore data normalisation, and hence use the raw data instead. Please download this from [mldata.org](http://mldata.org/repository/data/download/csv/regression-datasets-housing/).\n",
    "\n",
    "As in Tutorial 2, use ```pandas``` to read the data. Remove the 'CHAS' feature from the dataset. "
   ]
  },
  {
   "cell_type": "code",
   "execution_count": 2,
   "metadata": {
    "collapsed": false
   },
   "outputs": [
    {
     "data": {
      "text/plain": [
       "(506, 13)"
      ]
     },
     "execution_count": 3,
     "metadata": {},
     "output_type": "execute_result"
    }
   ],
   "source": [
    "names =  ['crim', 'zn', 'indus', 'chas', 'nox', 'rm', 'age', 'dis', 'rad', 'tax', 'ptratio', 'b', 'lstat', 'medv']\n",
    "data = pd.read_csv('regression-datasets-housing.csv', header=None, names=names)\n",
    "data.drop('chas', axis=1, inplace=True)\n",
    "data.shape"
   ]
  },
  {
   "cell_type": "markdown",
   "metadata": {},
   "source": [
    "Implement a function that will normalise each feature such that the mean value of the feature is zero and the variance is one. Apply this function to each feature in the housing dataset."
   ]
  },
  {
   "cell_type": "code",
   "execution_count": 3,
   "metadata": {
    "collapsed": false
   },
   "outputs": [
    {
     "name": "stdout",
     "output_type": "stream",
     "text": [
      "crim         3.613524\n",
      "zn          11.347826\n",
      "indus       11.136779\n",
      "nox          0.554695\n",
      "rm           6.284634\n",
      "age         68.574901\n",
      "dis          3.795043\n",
      "rad          9.549407\n",
      "tax        408.237154\n",
      "ptratio     18.083004\n",
      "b          356.674032\n",
      "lstat       12.653063\n",
      "medv        22.532806\n",
      "dtype: float64\n",
      "crim         8.593041\n",
      "zn          23.287547\n",
      "indus        6.853571\n",
      "nox          0.115763\n",
      "rm           0.701923\n",
      "age         28.121033\n",
      "dis          2.103628\n",
      "rad          8.698651\n",
      "tax        168.370495\n",
      "ptratio      2.278319\n",
      "b           91.204607\n",
      "lstat        7.134002\n",
      "medv         9.188012\n",
      "dtype: float64\n"
     ]
    }
   ],
   "source": [
    "# Solution\n",
    "\n",
    "def normalise_z(data):\n",
    "    \"\"\"Returns data that is Z normalised.\n",
    "    Each feature has zero mean and unit variance.\n",
    "    \"\"\"\n",
    "    mu = np.mean(data, axis=0)\n",
    "    sigma = np.std(data, axis=0)\n",
    "    print(mu)\n",
    "    print(sigma)\n",
    "    assert np.any(sigma > 0.0), 'Zero variance'\n",
    "    return (data-mu)/sigma\n",
    "\n",
    "n_data = normalise_z(data)"
   ]
  },
  {
   "cell_type": "markdown",
   "metadata": {},
   "source": [
    "To simplify equations, we introduce an extra input so that the biases can be absorbed into the weights."
   ]
  },
  {
   "cell_type": "code",
   "execution_count": 4,
   "metadata": {
    "collapsed": false
   },
   "outputs": [
    {
     "data": {
      "text/html": [
       "<div>\n",
       "<table border=\"1\" class=\"dataframe\">\n",
       "  <thead>\n",
       "    <tr style=\"text-align: right;\">\n",
       "      <th></th>\n",
       "      <th>crim</th>\n",
       "      <th>zn</th>\n",
       "      <th>indus</th>\n",
       "      <th>nox</th>\n",
       "      <th>rm</th>\n",
       "      <th>age</th>\n",
       "      <th>dis</th>\n",
       "      <th>rad</th>\n",
       "      <th>tax</th>\n",
       "      <th>ptratio</th>\n",
       "      <th>b</th>\n",
       "      <th>lstat</th>\n",
       "      <th>medv</th>\n",
       "      <th>ones</th>\n",
       "    </tr>\n",
       "  </thead>\n",
       "  <tbody>\n",
       "    <tr>\n",
       "      <th>0</th>\n",
       "      <td>-0.419782</td>\n",
       "      <td>0.285654</td>\n",
       "      <td>-1.287909</td>\n",
       "      <td>-0.144217</td>\n",
       "      <td>0.413672</td>\n",
       "      <td>-0.120013</td>\n",
       "      <td>0.140214</td>\n",
       "      <td>-0.982843</td>\n",
       "      <td>-0.666608</td>\n",
       "      <td>-1.353192</td>\n",
       "      <td>0.441052</td>\n",
       "      <td>-1.075562</td>\n",
       "      <td>0.159686</td>\n",
       "      <td>1</td>\n",
       "    </tr>\n",
       "    <tr>\n",
       "      <th>1</th>\n",
       "      <td>-0.417339</td>\n",
       "      <td>-0.487292</td>\n",
       "      <td>-0.593381</td>\n",
       "      <td>-0.740262</td>\n",
       "      <td>0.194274</td>\n",
       "      <td>0.367166</td>\n",
       "      <td>0.557160</td>\n",
       "      <td>-0.867883</td>\n",
       "      <td>-0.987329</td>\n",
       "      <td>-0.475352</td>\n",
       "      <td>0.441052</td>\n",
       "      <td>-0.492439</td>\n",
       "      <td>-0.101524</td>\n",
       "      <td>1</td>\n",
       "    </tr>\n",
       "    <tr>\n",
       "      <th>2</th>\n",
       "      <td>-0.417342</td>\n",
       "      <td>-0.487292</td>\n",
       "      <td>-0.593381</td>\n",
       "      <td>-0.740262</td>\n",
       "      <td>1.282714</td>\n",
       "      <td>-0.265812</td>\n",
       "      <td>0.557160</td>\n",
       "      <td>-0.867883</td>\n",
       "      <td>-0.987329</td>\n",
       "      <td>-0.475352</td>\n",
       "      <td>0.396427</td>\n",
       "      <td>-1.208727</td>\n",
       "      <td>1.324247</td>\n",
       "      <td>1</td>\n",
       "    </tr>\n",
       "    <tr>\n",
       "      <th>3</th>\n",
       "      <td>-0.416750</td>\n",
       "      <td>-0.487292</td>\n",
       "      <td>-1.306878</td>\n",
       "      <td>-0.835284</td>\n",
       "      <td>1.016303</td>\n",
       "      <td>-0.809889</td>\n",
       "      <td>1.077737</td>\n",
       "      <td>-0.752922</td>\n",
       "      <td>-1.106115</td>\n",
       "      <td>-0.036432</td>\n",
       "      <td>0.416163</td>\n",
       "      <td>-1.361517</td>\n",
       "      <td>1.182758</td>\n",
       "      <td>1</td>\n",
       "    </tr>\n",
       "    <tr>\n",
       "      <th>4</th>\n",
       "      <td>-0.412482</td>\n",
       "      <td>-0.487292</td>\n",
       "      <td>-1.306878</td>\n",
       "      <td>-0.835284</td>\n",
       "      <td>1.228577</td>\n",
       "      <td>-0.511180</td>\n",
       "      <td>1.077737</td>\n",
       "      <td>-0.752922</td>\n",
       "      <td>-1.106115</td>\n",
       "      <td>-0.036432</td>\n",
       "      <td>0.441052</td>\n",
       "      <td>-1.026501</td>\n",
       "      <td>1.487503</td>\n",
       "      <td>1</td>\n",
       "    </tr>\n",
       "  </tbody>\n",
       "</table>\n",
       "</div>"
      ],
      "text/plain": [
       "       crim        zn     indus       nox        rm       age       dis  \\\n",
       "0 -0.419782  0.285654 -1.287909 -0.144217  0.413672 -0.120013  0.140214   \n",
       "1 -0.417339 -0.487292 -0.593381 -0.740262  0.194274  0.367166  0.557160   \n",
       "2 -0.417342 -0.487292 -0.593381 -0.740262  1.282714 -0.265812  0.557160   \n",
       "3 -0.416750 -0.487292 -1.306878 -0.835284  1.016303 -0.809889  1.077737   \n",
       "4 -0.412482 -0.487292 -1.306878 -0.835284  1.228577 -0.511180  1.077737   \n",
       "\n",
       "        rad       tax   ptratio         b     lstat      medv  ones  \n",
       "0 -0.982843 -0.666608 -1.353192  0.441052 -1.075562  0.159686     1  \n",
       "1 -0.867883 -0.987329 -0.475352  0.441052 -0.492439 -0.101524     1  \n",
       "2 -0.867883 -0.987329 -0.475352  0.396427 -1.208727  1.324247     1  \n",
       "3 -0.752922 -1.106115 -0.036432  0.416163 -1.361517  1.182758     1  \n",
       "4 -0.752922 -1.106115 -0.036432  0.441052 -1.026501  1.487503     1  "
      ]
     },
     "execution_count": 5,
     "metadata": {},
     "output_type": "execute_result"
    }
   ],
   "source": [
    "num_ex = len(n_data.index)\n",
    "n_data['ones'] = np.ones(num_ex)\n",
    "n_data.head()"
   ]
  },
  {
   "cell_type": "markdown",
   "metadata": {},
   "source": [
    "## Comparing two normalisations\n",
    "\n",
    "Compare the normalised data ```n_data``` to the data from Tutorial 2 by plotting and/or comparing histograms. Discuss the potential effect of the normalisation on the regression task."
   ]
  },
  {
   "cell_type": "code",
   "execution_count": 5,
   "metadata": {
    "collapsed": false
   },
   "outputs": [
    {
     "data": {
      "text/plain": [
       "<matplotlib.text.Text at 0x1031425c0>"
      ]
     },
     "execution_count": 6,
     "metadata": {},
     "output_type": "execute_result"
    },
    {
     "data": {
      "image/png": "[encoded data removed]",
      "text/plain": [
       "<matplotlib.figure.Figure at 0x1083947f0>"
      ]
     },
     "metadata": {},
     "output_type": "display_data"
    }
   ],
   "source": [
    "# Solution\n",
    "\n",
    "data2 = pd.read_csv('housing_scale.csv', header=None, names=names)\n",
    "fig = plt.figure(figsize=(13,6))\n",
    "ax1 = fig.add_subplot(121)\n",
    "ax1.hist(n_data['crim'], bins=30)\n",
    "ax1.set_title('Z normalization')\n",
    "ax2 = fig.add_subplot(122)\n",
    "ax2.hist(data2['crim'], bins=30)\n",
    "ax2.set_title('interval [-1,1]')\n",
    "\n",
    "# Note that this is an open ended question."
   ]
  },
  {
   "cell_type": "markdown",
   "metadata": {},
   "source": [
    "## Error Backpropagation\n",
    "\n",
    "Note that we are considering a regression problem. That is we want to predict the median value of homes (a real number) from the other features. We use the squared error to measure performance.\n",
    "$$\n",
    "E = \\frac{1}{2} \\sum_k (y_k - t_k)^2\n",
    "$$\n",
    "\n",
    "### Objective function\n",
    "Write down the objective function of a neural network with one hidden layer. Use the identity activation function for the hidden units. Write down the equation for 5 hidden units.\n",
    "\n",
    "How many input units should there be? What should be the activation function of the output units? Explain why these choices are reasonable."
   ]
  },
  {
   "cell_type": "markdown",
   "metadata": {},
   "source": [
    "### Solution\n",
    "\n",
    "Using notation from lecture slides:\n",
    "$$\n",
    "y_k(x,w) = g\\left(\\sum_{j=0}^M w_{kj}^{(2)} h \\left( \\sum_{i=0}^D w_{ji}^{(1)} x_i\\right)\\right).\n",
    "$$\n",
    "\n",
    "Since we are considering regression, $g(\\cdot)$ is the identity. \n",
    "We assume $h(\\cdot)$ is also the identity, simplifying matters.\n",
    "There should be 12 input units, one for each feature, and one output unit.\n",
    "$$\n",
    "y_1(x,w) = \\sum_{j=0}^4 w_{kj}^{(2)} \\left( \\sum_{i=0}^{11} w_{ji}^{(1)} x_i\\right).\n",
    "$$\n",
    "\n",
    "We consider the squared error, hence the objective function of the neural network is (where $t$ is the label):\n",
    "\\begin{align}\n",
    "E &= \\frac{1}{2} \\left(y_1(x,w) - t\\right)^2\\\\\n",
    "&= \\frac{1}{2} \\left(\\sum_{j=0}^4 w_{kj}^{(2)} \\left( \\sum_{i=0}^{11} w_{ji}^{(1)} x_i\\right) - t\\right)^2\n",
    "\\end{align}"
   ]
  },
  {
   "cell_type": "markdown",
   "metadata": {},
   "source": [
    "### Gradient\n",
    "Compute the gradient\n",
    "$\\frac{\\partial E}{\\partial w^{(2)}}$"
   ]
  },
  {
   "cell_type": "markdown",
   "metadata": {},
   "source": [
    "### Solution\n",
    "$$\n",
    "\\frac{\\partial E}{\\partial w_{kj}^{(2)}} = \n",
    "\\left(\\sum_{j=0}^4 w_{kj}^{(2)} \\left( \\sum_{i=0}^{11} w_{ji}^{(1)} x_i\\right) - t\\right)\\left( \\sum_{i=0}^{11} w_{ji}^{(1)} x_i\\right)\n",
    "$$"
   ]
  },
  {
   "cell_type": "markdown",
   "metadata": {},
   "source": [
    "## Checking correctness\n",
    "\n",
    "One strategy to check that your code is correct in neural networks (and in general any gradient code) is to numerically check that your expression is correct. From the lecture we see that:\n",
    "$$\n",
    "\\frac{\\partial E}{\\partial w^{(2)}} \\simeq \\frac{E(w^{(2)} + \\epsilon) - E(w^{(2)} - \\epsilon)}{2\\epsilon}.\n",
    "$$\n",
    "For more information see [the following wiki](http://ufldl.stanford.edu/wiki/index.php/Gradient_checking_and_advanced_optimization).\n",
    "\n",
    "Implement two functions, one that computes the analytic gradient and the second that computes the numerical gradient."
   ]
  },
  {
   "cell_type": "code",
   "execution_count": 6,
   "metadata": {
    "collapsed": false
   },
   "outputs": [],
   "source": [
    "# Solution\n",
    "\n",
    "def grad_analytic(Wout, Whid, x_i, t):\n",
    "    \"\"\"Returns the gradient of the output layer, based on analytic formula.\"\"\"\n",
    "    hid = np.dot(Whid, x_i)\n",
    "    grad = (np.dot(Wout, hid) - t)*hid\n",
    "    return grad\n",
    "\n",
    "def objective(Wout, Whid, x_i, t):\n",
    "    \"\"\"Returns the objective value of the neural network\"\"\"\n",
    "    hid = np.dot(Whid, x_i)\n",
    "    obj = 0.5*(np.dot(Wout, hid) - t)**2\n",
    "    return obj\n",
    "\n",
    "def grad_numerical(Wout, Whid, x_i, t):\n",
    "    \"\"\"Returns the gradient of the output layer, based on numerical gradient\"\"\"\n",
    "    num_hidden = len(Wout)\n",
    "    grad = np.zeros(num_hidden)\n",
    "    for idx in range(num_hidden):\n",
    "        epsilon = 0.01\n",
    "        Wout_plus = Wout.copy()\n",
    "        Wout_plus[idx] += epsilon\n",
    "        Wout_minus = Wout.copy()\n",
    "        Wout_minus[idx] -= epsilon\n",
    "        grad[idx] = objective(Wout_plus, Whid, x_i, t) - objective(Wout_minus, Whid, x_i, t)\n",
    "        grad[idx] /= 2.*epsilon\n",
    "    return grad"
   ]
  },
  {
   "cell_type": "markdown",
   "metadata": {},
   "source": [
    "Using the Boston housing data above, confirm that the two functions return almost the same values of the gradient for various values of $w$."
   ]
  },
  {
   "cell_type": "code",
   "execution_count": 7,
   "metadata": {
    "collapsed": false
   },
   "outputs": [
    {
     "name": "stdout",
     "output_type": "stream",
     "text": [
      "534.175027073\n",
      "[ 71.44456259  71.44456259  71.44456259  71.44456259  71.44456259]\n",
      "[ 71.44456259  71.44456259  71.44456259  71.44456259  71.44456259]\n"
     ]
    }
   ],
   "source": [
    "# Solution\n",
    "    \n",
    "# Easiest test to debug is to use a deterministic function\n",
    "Wout = np.array([1,2,3,4,5], dtype=float)\n",
    "Whid = np.ones((5,13))\n",
    "sample_idx = 1\n",
    "x_i = np.array(n_data.iloc[sample_idx])[1:]\n",
    "print(objective(Wout, Whid, x_i, n_data['medv'][sample_idx]))\n",
    "print(grad_analytic(Wout, Whid, x_i, n_data['medv'][sample_idx]))\n",
    "print(grad_numerical(Wout, Whid, x_i, n_data['medv'][sample_idx]))\n",
    "    "
   ]
  },
  {
   "cell_type": "markdown",
   "metadata": {},
   "source": [
    "## (optional) Gradients for hidden layer\n",
    "\n",
    "Derive and implement the gradients for the hidden layer, hence giving you the full two layer neural network. Use this with the experimental set up in Tutorial 2 to analyse the Boston housing data. Recall that since we are using linear activation functions, this is equivalent to using a linear model. Compare and contrast the results of the neural network with regularised linear regression."
   ]
  },
  {
   "cell_type": "code",
   "execution_count": 8,
   "metadata": {
    "collapsed": false
   },
   "outputs": [],
   "source": []
  }
 ],
 "metadata": {
  "kernelspec": {
   "display_name": "Python 3",
   "language": "python",
   "name": "python3"
  },
  "language_info": {
   "codemirror_mode": {
    "name": "ipython",
    "version": 3
   },
   "file_extension": ".py",
   "mimetype": "text/x-python",
   "name": "python",
   "nbconvert_exporter": "python",
   "pygments_lexer": "ipython3",
   "version": "3.4.4"
  }
 },
 "nbformat": 4,
 "nbformat_minor": 0
}
