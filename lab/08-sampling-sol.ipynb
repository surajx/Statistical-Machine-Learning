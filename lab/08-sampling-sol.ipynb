{
 "cells": [
  {
   "cell_type": "markdown",
   "metadata": {},
   "source": [
    "# Sampling"
   ]
  },
  {
   "cell_type": "markdown",
   "metadata": {},
   "source": [
    "###### COMP4670/8600 - Introduction to Statistical Machine Learning - Tutorial 8"
   ]
  },
  {
   "cell_type": "markdown",
   "metadata": {},
   "source": [
    "Setting up the environment\n",
    "$\\newcommand{\\Ex}{\\mathbb{E}}$\n",
    "$\\newcommand{\\dd}{\\mathrm{d}}$\n",
    "$\\newcommand{\\DUniform}[3]{\\mathscr{U}\\left(#1 ~\\middle|~ #2, #3\\right)}$\n",
    "$\\newcommand{\\DNorm}[3]{\\mathscr{N}\\left(#1 ~\\middle|~ #2, #3\\right)}$\n"
   ]
  },
  {
   "cell_type": "code",
   "execution_count": 1,
   "metadata": {
    "collapsed": false
   },
   "outputs": [],
   "source": [
    "import math\n",
    "import numpy as np\n",
    "from scipy.stats import uniform, multivariate_normal\n",
    "import matplotlib.pyplot as plt\n",
    "\n",
    "%matplotlib inline"
   ]
  },
  {
   "cell_type": "markdown",
   "metadata": {},
   "source": [
    "The aim of this tutorial is to investigate the effects of different proposal distributions on importance sampling.\n",
    "\n",
    "## Sampling from Gaussian and Uniform Distributions\n",
    "\n",
    "*Note that help for a certain function can be obtained by using the question mark, for example * ```?uniform``` or ```?norm```.\n",
    "\n",
    "Repeat the following twice, once each for Gaussian with zero mean and unit variance and Uniform on the unit square.\n",
    "1. Sample 1000 data points from a two dimensional distribution.\n",
    "2. Compute the [two dimensional histogram](http://docs.scipy.org/doc/numpy/reference/generated/numpy.histogram2d.html), with 10 bins in each dimension.\n",
    "3. Visualise the histogram as a heatmap. There are [various ways of doing this](http://thomas-cokelaer.info/blog/2014/05/matplotlib-difference-between-pcolor-pcolormesh-and-imshow/) as a two dimensional image. Use an [appropriate colormap](https://jakevdp.github.io/blog/2014/10/16/how-bad-is-your-colormap/).\n",
    "4. Visualise the difference between the theoretical and empirical values of the density.\n",
    "\n",
    "The aim of this exercise is to observe the challenges of sampling in more than 1 dimension."
   ]
  },
  {
   "cell_type": "code",
   "execution_count": 2,
   "metadata": {
    "collapsed": false
   },
   "outputs": [
    {
     "data": {
      "text/plain": [
       "<matplotlib.colorbar.Colorbar at 0x7f831cd10e48>"
      ]
     },
     "execution_count": 2,
     "metadata": {},
     "output_type": "execute_result"
    },
    {
     "data": {
      "image/png": "[encoded data removed]",
      "text/plain": [
       "<matplotlib.figure.Figure at 0x7f831cdaf320>"
      ]
     },
     "metadata": {},
     "output_type": "display_data"
    }
   ],
   "source": [
    "# Solution\n",
    "\n",
    "N = 1000\n",
    "rv = uniform()\n",
    "x = rv.rvs(N)\n",
    "y = rv.rvs(N)\n",
    "H, xedges, yedges = np.histogram2d(x,y)\n",
    "X, Y = np.meshgrid(xedges, yedges)\n",
    "fig = plt.figure(figsize=(15,7))\n",
    "ax = fig.add_subplot(121)\n",
    "p1 = ax.pcolormesh(X, Y, H, cmap='autumn')\n",
    "ax.set_aspect('equal')\n",
    "ax.set_title('Uniform(0,1)')\n",
    "plt.colorbar(p1)\n",
    "\n",
    "rv = multivariate_normal(mean=[0,0], cov=np.eye(2))\n",
    "Z = rv.rvs(N)\n",
    "x = Z[:,0]\n",
    "y = Z[:,1]\n",
    "H, xedges, yedges = np.histogram2d(x,y)\n",
    "X, Y = np.meshgrid(xedges, yedges)\n",
    "ax = fig.add_subplot(122)\n",
    "p1 = ax.pcolormesh(X, Y, H, cmap='autumn')\n",
    "ax.set_aspect('equal')\n",
    "ax.set_title('Gaussian([0,0],[[1,0][0,1]])')\n",
    "plt.colorbar(p1)\n"
   ]
  },
  {
   "cell_type": "markdown",
   "metadata": {},
   "source": [
    "## A function for performing estimation\n",
    "\n",
    "Given are the following function $f(x, y)$\n",
    "\n",
    "\\begin{equation*}\n",
    "  f(x, y) = x \\,  y  \\cos(x) \\, \\cos(y),\n",
    "\\end{equation*}\n",
    "\n",
    "and the (unnormalised!) distribution $ \\widetilde{p}(x, y) $\n",
    "\\begin{equation*}\n",
    "  \\widetilde{p}(x, y) = \n",
    "                 \\exp \\left\\{- \\frac{1}{4}((x - 2)^2 + (y - 3)^2) \\right\\}\n",
    "    - \\frac{3}{4} \\exp \\left\\{- \\frac{1}{2} ((x - 2)^2 + (y - 3)^2) \\right\\}\n",
    "\\end{equation*}\n",
    "\n",
    "The goal is to numerically estimate $ \\Ex[p(x, y)]{f(x, y)} $ defined as\n",
    "\\begin{equation*}\n",
    "   \\Ex[p(x, y)]{f(x, y)} = \\int_{-\\infty}^{\\infty} f(x, y) \\, p(x, y) \\dd x \\dd y\n",
    "\\end{equation*}\n",
    "\n",
    "where $ p(x, y) $ is the normalised probability distribution derived from $\\widetilde{p}(x, y) $\n",
    "\\begin{equation*}\n",
    "   p(x, y) = \\frac{ \\widetilde{p}(x, y) }\n",
    "                  { \\int_{-\\infty}^{\\infty}  \\int_{-\\infty}^{\\infty} \\widetilde{p}(x, y) \\dd x \\dd y }\n",
    "\\end{equation*}\n",
    "\n",
    "Note, that with importance sampling, this can be achieved without calculating the normalisation. All we need to do, is to use sample points from an appropriate distribution $ \\widetilde{q}(x, y) $ \n",
    "which has most of its probability mass in regions where $ \\widetilde{p}(x, y) $ is also nonzero.\n",
    "\n",
    "In the following, we will implement importance sampling to estimate $ \\Ex[p(x, y)]{f(x, y)} $ for two choices of $ \\widetilde{q}(x, y) $, a Uniform\n",
    "Distribution and a Gaussian Distribution.\n",
    "\n",
    "**(optional) Plot the functions $f(x,y)$ and $\\widetilde{p}(x, y)$. Look at the 3D plotting section in [this tutorial](\\widetilde{p}(x, y)).**"
   ]
  },
  {
   "cell_type": "code",
   "execution_count": 3,
   "metadata": {
    "collapsed": false
   },
   "outputs": [],
   "source": [
    "# Solution\n",
    "\n",
    "sigma1 = 2.0\n",
    "sigma2 = 1.0\n",
    "\n",
    "def f(x, y):\n",
    "    return x * y * math.cos(x) * math.cos(y)\n",
    "\n",
    "def p(x, y):\n",
    "    return math.exp(- 1.0/(2.0*sigma1) * ((x - 2)**2 + (y - 3)**2)) \\\n",
    "    - 3.0/4.0 * math.exp(- 1.0/(2.0*sigma2) * ((x - 2)**2 + (y - 3)**2))\n",
    "   "
   ]
  },
  {
   "cell_type": "markdown",
   "metadata": {},
   "source": [
    "## Importance Sampling using the Uniform Distribution\n",
    "\n",
    "Draw random samples $ x_n $ and $ y_n $, $ n = 1, \\dots, N $, \n",
    "each from the uniform distribution $ \\DUniform{\\cdot}{-10}{20} $. That means\n",
    "$ \\widetilde{q}(x, y) = \\DUniform{x}{-10}{20} \\, \\DUniform{y}{-10}{20} $.\n",
    "\n",
    "Now use the samples from the distribution $ \\widetilde{q}(x, y) $ to estimate \n",
    "$ \\Ex[p(x, y)]{f(x, y)} $ via importance sampling.\n",
    "\n"
   ]
  },
  {
   "cell_type": "code",
   "execution_count": 4,
   "metadata": {
    "collapsed": false
   },
   "outputs": [],
   "source": [
    "# Solution\n",
    "\n",
    "def importance_uniform(num_points=100, batch_size=1000):\n",
    "    \"\"\"Compute the expectation of f(x,y) over the unormalised distribution p(x,y).\n",
    "    Uses the uniform(-10,30) as a proposal distribution.\n",
    "    \"\"\"\n",
    "    exp_f = 0\n",
    "    denom = 0\n",
    "            \n",
    "    N      = num_points * batch_size\n",
    "    result = np.empty((num_points,))\n",
    "    k = 0\n",
    "    rv_x = uniform(loc=-10, scale=30)\n",
    "    rv_y = uniform(loc=-10, scale=30)\n",
    "    for ix in range(N):\n",
    "        x = rv_x.rvs()\n",
    "        y = rv_y.rvs()\n",
    "        pval = p(x, y)\n",
    "        qval = rv_x.pdf(x)*rv_y.pdf(y)\n",
    "        \n",
    "        exp_f  += f(x, y) * pval/qval\n",
    "        denom += pval/qval \n",
    "        \n",
    "        if ix % batch_size == 0:\n",
    "            result[k] = exp_f/denom\n",
    "            k += 1\n",
    "    return result\n",
    "\n",
    "est_uniform = importance_uniform()"
   ]
  },
  {
   "cell_type": "markdown",
   "metadata": {},
   "source": [
    "## Importance Sampling using the Gaussian Distribution\n",
    "\n",
    "create random vectors from the following Gaussian Distribution\n",
    "$ \\widetilde{q}(x, y) = \\DNorm{(x, y)^T}{\\mathbf{\\mu} = (2, 3)^T}{\\mathbf{\\Sigma} = \\begin{bmatrix} 2 & 0 \\\\ 0 & 3 \\\\ \\end{bmatrix}} $.\n",
    "\n",
    "Now use the samples from the distribution $ \\widetilde{q}(x, y) $ to estimate \n",
    "$ \\Ex[p(x, y)]{f(x, y)} $ via importance sampling.\n",
    "\n"
   ]
  },
  {
   "cell_type": "code",
   "execution_count": 5,
   "metadata": {
    "collapsed": false
   },
   "outputs": [],
   "source": [
    "# Solution\n",
    "\n",
    "def importance_gaussian(num_points=100, batch_size=1000):\n",
    "    \"\"\"Compute the expectation of f(x,y) over the unormalised distribution p(x,y).\n",
    "    Uses Normal([2,3], [[2,0][[0,3]]]) as a proposal distribution.\n",
    "    \"\"\"\n",
    "    exp_f = 0\n",
    "    denom = 0\n",
    "            \n",
    "    N      = num_points * batch_size\n",
    "    result = np.empty((num_points,))\n",
    "    k = 0\n",
    "    rv = multivariate_normal(mean=np.array([2,3]), cov=np.array([[2,0],[0,3]]))\n",
    "    for ix in range(N):\n",
    "        x,y = rv.rvs()\n",
    "        pval = p(x, y)\n",
    "        qval = rv.pdf([x,y])\n",
    "        \n",
    "        exp_f  += f(x, y) * pval/qval\n",
    "        denom += pval/qval \n",
    "        \n",
    "        if ix % batch_size == 0:\n",
    "            result[k] = exp_f/denom\n",
    "            k += 1\n",
    "    return result\n",
    "\n",
    "est_gaussian = importance_gaussian()"
   ]
  },
  {
   "cell_type": "markdown",
   "metadata": {},
   "source": [
    "## Comparing the empirical and analytic results\n",
    "\n",
    "For the function $f(x, y)$ and the normalised distribution $p(x, y)$,\n",
    "the correct result can be computed analytically\n",
    "\\begin{align*}\n",
    "    \\Ex[p(x, y)]{f(x, y)} \n",
    "    & = \\int_{-\\infty}^{\\infty} \\int_{-\\infty}^{\\infty} f(x, y) \\, p(x, y) \n",
    "                \\dd x \\dd y \\\\\n",
    "    & =   \\frac{16 (5 \\cos(1) + \\cos(5) + \\sin(1) - 5 \\sin(5))\n",
    "      - 3 e (7 \\cos(1) + 5 \\cos(5) + \\sin(1) - 5 \\sin(5)) }\n",
    "               {10 \\, e^2} \\\\                      \n",
    "    & \\approx 0.670859\n",
    "\\end{align*}\n",
    "\n",
    "Compare the convergence rate of the two approaches given above. Plot on the same plot the two curves showing the empirical expectation as a function of the number of samples as well as the analytical value.\n"
   ]
  },
  {
   "cell_type": "code",
   "execution_count": 6,
   "metadata": {
    "collapsed": false
   },
   "outputs": [
    {
     "data": {
      "text/plain": [
       "(-1, 4)"
      ]
     },
     "execution_count": 7,
     "metadata": {},
     "output_type": "execute_result"
    },
    {
     "data": {
      "image/png": "[encoded data removed]",
      "text/plain": [
       "<matplotlib.figure.Figure at 0x107eb5588>"
      ]
     },
     "metadata": {},
     "output_type": "display_data"
    }
   ],
   "source": [
    "# Solution\n",
    "\n",
    "num_points = len(est_uniform)\n",
    "fig = plt.figure(figsize=(6,6))\n",
    "ax = fig.add_subplot(111)\n",
    "ax.plot(range(num_points), est_uniform, label='Uniform')\n",
    "ax.plot(range(num_points), est_gaussian, label='Gaussian')\n",
    "ax.plot([0, num_points], [0.670859, 0.670859], 'r--', label='analytic')\n",
    "ax.legend(loc='lower right')\n",
    "ax.set_ylim([-1,4])"
   ]
  },
  {
   "cell_type": "markdown",
   "metadata": {},
   "source": [
    "Discuss how one could choose an appropriate proposal distribution for a particular function $f(x,y)$ and distribution $p(x,y)$."
   ]
  },
  {
   "cell_type": "markdown",
   "metadata": {},
   "source": [
    "### Solution"
   ]
  },
  {
   "cell_type": "code",
   "execution_count": 7,
   "metadata": {
    "collapsed": true
   },
   "outputs": [],
   "source": []
  }
 ],
 "metadata": {
  "kernelspec": {
   "display_name": "Python 3",
   "language": "python",
   "name": "python3"
  },
  "language_info": {
   "codemirror_mode": {
    "name": "ipython",
    "version": 3
   },
   "file_extension": ".py",
   "mimetype": "text/x-python",
   "name": "python",
   "nbconvert_exporter": "python",
   "pygments_lexer": "ipython3",
   "version": "3.4.3"
  }
 },
 "nbformat": 4,
 "nbformat_minor": 0
}
