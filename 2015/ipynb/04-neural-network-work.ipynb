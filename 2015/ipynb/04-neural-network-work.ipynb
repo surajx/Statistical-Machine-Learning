{
 "metadata": {
  "name": ""
 },
 "nbformat": 3,
 "nbformat_minor": 0,
 "worksheets": [
  {
   "cells": [
    {
     "cell_type": "heading",
     "level": 1,
     "metadata": {},
     "source": [
      "Neural Networks"
     ]
    },
    {
     "cell_type": "heading",
     "level": 6,
     "metadata": {},
     "source": [
      "COMP4670/8600 - Introduction to Statistical Machine Learning - Tutorial 4"
     ]
    },
    {
     "cell_type": "markdown",
     "metadata": {},
     "source": [
      "$\\newcommand{\\trace}[1]{\\operatorname{tr}\\left\\{#1\\right\\}}$\n",
      "$\\newcommand{\\Norm}[1]{\\lVert#1\\rVert}$\n",
      "$\\newcommand{\\RR}{\\mathbb{R}}$\n",
      "$\\newcommand{\\inner}[2]{\\langle #1, #2 \\rangle}$\n",
      "$\\newcommand{\\DD}{\\mathscr{D}}$\n",
      "$\\newcommand{\\grad}[1]{\\operatorname{grad}#1}$\n",
      "$\\DeclareMathOperator*{\\argmin}{arg\\,min}$\n",
      "\n",
      "Setting up the environment"
     ]
    },
    {
     "cell_type": "code",
     "collapsed": false,
     "input": [
      "import matplotlib.pyplot as plt\n",
      "import numpy as np\n",
      "import pandas as pd\n",
      "\n",
      "%matplotlib inline"
     ],
     "language": "python",
     "metadata": {},
     "outputs": []
    },
    {
     "cell_type": "markdown",
     "metadata": {},
     "source": [
      "## The data set\n",
      "\n",
      "We will use an old dataset on the price of housing in Boston (see [description](https://archive.ics.uci.edu/ml/datasets/Housing)). The aim is to predict the median value of the owner occupied homes from various other factors. This is the same data as was used in Tutorial 2. However, this time we will explore data normalisation, and hence use the raw data instead. Please download this from [mldata.org](http://mldata.org/repository/data/download/csv/regression-datasets-housing/).\n",
      "\n",
      "As in Tutorial 2, use ```pandas``` to read the data. Remove the 'CHAS' feature from the dataset. "
     ]
    },
    {
     "cell_type": "code",
     "collapsed": false,
     "input": [
      "names = ['medv', 'crim', 'zn', 'indus', 'chas', 'nox', 'rm', 'age', 'dis', 'rad', 'tax', 'ptratio', 'b', 'lstat']\n",
      "data = pd.read_csv('regression-datasets-housing.csv', header=None, names=names)\n",
      "data.drop('chas', axis=1, inplace=True)\n",
      "data.shape"
     ],
     "language": "python",
     "metadata": {},
     "outputs": []
    },
    {
     "cell_type": "markdown",
     "metadata": {},
     "source": [
      "Implement a function that will normalise each feature such that the mean value of the feature is zero and the variance is one. Apply this function to each feature in the housing dataset."
     ]
    },
    {
     "cell_type": "code",
     "collapsed": false,
     "input": [
      "# Solution goes here"
     ],
     "language": "python",
     "metadata": {},
     "outputs": []
    },
    {
     "cell_type": "markdown",
     "metadata": {},
     "source": [
      "To simplify equations, we introduce an extra input so that the biases can be absorbed into the weights."
     ]
    },
    {
     "cell_type": "code",
     "collapsed": false,
     "input": [
      "num_ex = len(n_data.index)\n",
      "n_data['ones'] = np.ones(num_ex)\n",
      "n_data.head()"
     ],
     "language": "python",
     "metadata": {},
     "outputs": []
    },
    {
     "cell_type": "markdown",
     "metadata": {},
     "source": [
      "## Comparing two normalisations\n",
      "\n",
      "Compare the normalised data ```n_data``` to the data from Tutorial 2 by plotting and/or comparing histograms. Discuss the potential effect of the normalisation on the regression task."
     ]
    },
    {
     "cell_type": "code",
     "collapsed": false,
     "input": [
      "# Solution goes here"
     ],
     "language": "python",
     "metadata": {},
     "outputs": []
    },
    {
     "cell_type": "markdown",
     "metadata": {},
     "source": [
      "## Error Backpropagation\n",
      "\n",
      "Note that we are considering a regression problem. That is we want to predict the median value of homes (a real number) from the other features. We use the squared error to measure performance.\n",
      "$$\n",
      "E = \\frac{1}{2} \\sum_k (y_k - t_k)^2\n",
      "$$\n",
      "\n",
      "### Objective function\n",
      "Write down the objective function of a neural network with one hidden layer. Use the identity activation function for the hidden units. Write down the equation for 5 hidden units.\n",
      "\n",
      "How many input units should there be? What should be the activation function of the output units? Explain why these choices are reasonable."
     ]
    },
    {
     "cell_type": "markdown",
     "metadata": {},
     "source": [
      "### Solution description\n"
     ]
    },
    {
     "cell_type": "markdown",
     "metadata": {},
     "source": [
      "### Gradient\n",
      "Compute the gradient\n",
      "$\\frac{\\partial E}{\\partial w^{(2)}}$"
     ]
    },
    {
     "cell_type": "markdown",
     "metadata": {},
     "source": [
      "### Solution description\n"
     ]
    },
    {
     "cell_type": "markdown",
     "metadata": {},
     "source": [
      "## Checking correctness\n",
      "\n",
      "One strategy to check that your code is correct in neural networks (and in general any gradient code) is to numerically check that your expression is correct. From the lecture we see that:\n",
      "$$\n",
      "\\frac{\\partial E}{\\partial w^{(2)}} \\simeq \\frac{E(w^{(2)} + \\epsilon) - E(w^{(2)} - \\epsilon)}{2\\epsilon}.\n",
      "$$\n",
      "For more information see [the following wiki](http://ufldl.stanford.edu/wiki/index.php/Gradient_checking_and_advanced_optimization).\n",
      "\n",
      "Implement two functions, one that computes the analytic gradient and the second that computes the numerical gradient."
     ]
    },
    {
     "cell_type": "code",
     "collapsed": false,
     "input": [
      "# Solution goes here"
     ],
     "language": "python",
     "metadata": {},
     "outputs": []
    },
    {
     "cell_type": "markdown",
     "metadata": {},
     "source": [
      "Using the Boston housing data above, confirm that the two functions return almost the same values of the gradient for various values of $w$."
     ]
    },
    {
     "cell_type": "code",
     "collapsed": false,
     "input": [
      "# Solution goes here"
     ],
     "language": "python",
     "metadata": {},
     "outputs": []
    },
    {
     "cell_type": "markdown",
     "metadata": {},
     "source": [
      "## (optional) Gradients for hidden layer\n",
      "\n",
      "Derive and implement the gradients for the hidden layer, hence giving you the full two layer neural network. Use this with the experimental set up in Tutorial 2 to analyse the Boston housing data. Recall that since we are using linear activation functions, this is equivalent to using a linear model. Compare and contrast the results of the neural network with regularised linear regression."
     ]
    },
    {
     "cell_type": "code",
     "collapsed": false,
     "input": [],
     "language": "python",
     "metadata": {},
     "outputs": []
    }
   ],
   "metadata": {}
  }
 ]
}