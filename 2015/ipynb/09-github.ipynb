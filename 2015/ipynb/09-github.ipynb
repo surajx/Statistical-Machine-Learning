{
 "metadata": {
  "name": "",
  "signature": "sha256:1bea75a4269037933c58784449971624ba05ad6f4a6b8fd80fd1a6e46a7b3aef"
 },
 "nbformat": 3,
 "nbformat_minor": 0,
 "worksheets": [
  {
   "cells": [
    {
     "cell_type": "heading",
     "level": 1,
     "metadata": {},
     "source": [
      "Working in teams"
     ]
    },
    {
     "cell_type": "heading",
     "level": 6,
     "metadata": {},
     "source": [
      "COMP4670/8600 - Introduction to Statistical Machine Learning - Tutorial 9"
     ]
    },
    {
     "cell_type": "markdown",
     "metadata": {},
     "source": [
      "The aim of this tutorial is to start working together in teams. It is the first part in a two part tutorial where you will take part as a team in a [Kaggle](https://www.kaggle.com/c/word2vec-nlp-tutorial) submission. In contrast to earlier tutorials, you will do parts of this tutorial from the command line."
     ]
    },
    {
     "cell_type": "markdown",
     "metadata": {},
     "source": [
      "## git basics: fork, branch, update, review, pull request\n",
      "\n",
      "This first exercise is to get you used to [github-flow](https://guides.github.com/introduction/flow/). Log on to [github](https://github.com/) (or sign up if you do not yet have an account). Go to the repository corresponding to your tutorial group.\n",
      "\n",
      "* [https://github.com/chengsoonong/isml15-wed](https://github.com/chengsoonong/isml15-wed)\n",
      "* [https://github.com/chengsoonong/isml15-thu](https://github.com/chengsoonong/isml15-thu)\n",
      "\n",
      "Create a **branch**, and name it ```dev-u1234567``` where you of course replace the user ID with your own. **Clone** the repository and checkout your branch. This can be achieved using the -b command with the corresponding ssh URL:\n",
      "\n",
      "```\n",
      "git clone -b dev-u1234567 git@github.com:chengsoonong/isml15-day.git\n",
      "```\n",
      "\n",
      "### Update\n",
      "\n",
      "Your first task is to implement two things:\n",
      "1. (optional) A function ```auc``` in the file ```metrics.py``` that measures the [Area under the Receiver Operating Characteristic](http://en.wikipedia.org/wiki/Receiver_operating_characteristic). This function should take two arguments, ```y_true``` and ```y_score``` and returns a float that is the AUC. Check that ```y_true``` contains only binary labels {0,1}, and that it is the same length as ```y_score```. Note that ```y_score``` is usually a real number (for example the output of the Perceptron).\n",
      "2. An example of a pair of input to test the function you have implemented. Note that in general, you should be using a proper testing framework such as [unittest](https://docs.python.org/3/library/unittest.html), [nose](https://nose.readthedocs.org/en/latest/) or [mock](https://docs.python.org/3/library/unittest.mock.html).\n",
      "\n",
      "### Review, merge and pull request\n",
      "\n",
      "*Work in groups of 2-5 people*\n",
      "\n",
      "Once you have completed your coding, **commit** your changes with a [useful commit message](http://tbaggery.com/2008/04/19/a-note-about-git-commit-messages.html). **push** your branch to github. Work in your group and get your partner to be the **review**er of your code on github. Once you are both happy with each other's code, **merge** all your branches into one branch, and **delete** the other branch(es). For more detail, see [this tutorial](http://git-scm.com/book/en/v2/Git-Branching-Basic-Branching-and-Merging). Be careful as github defaults to merging to the ```master``` branch, which is not the behaviour needed at this step.\n",
      "\n",
      "From your common branch, submit a **pull request** to the master branch of the repository of the tutorial (which your tutor will manage). See the [following tutorial](https://help.github.com/articles/using-pull-requests/). Help each other to get the code ready to be merged into the ```master``` branch. The reviewing should happen on github, and add comments to your pull request. Once everyone is happy (including your tutor) you can merge it into the ```master``` branch.\n",
      "\n",
      "*While you are busy coding, the ```master``` branch may have changed. You will need to merge those changes into your branch (which will update your pull request).*\n",
      "\n",
      "Congratulations! Give each other a pat on your back for a successful merge into the ```master``` branch."
     ]
    },
    {
     "cell_type": "markdown",
     "metadata": {},
     "source": [
      "## Kaggle data\n",
      "\n",
      "Each tutorial will be a team in the [Popcorn competition](https://www.kaggle.com/c/word2vec-nlp-tutorial). Your tutor will submit based on the code in the ```master``` branch. Please read the rules and description of the data.\n",
      "\n",
      "Your tutor will be in charge of the Kaggle submission. To help you get started quickly, you can download the bag of words data from the [course website](https://sml.forge.nicta.com.au/isml15/data/popcorn-features.csv.bz2). This is processed following the instructions [here](https://www.kaggle.com/c/word2vec-nlp-tutorial/details/part-1-for-beginners-bag-of-words) from the Kaggle data, using the stop-words from sklearn. The file is compressed using bz2, and is a pandas dataframe.\n",
      "\n",
      "*Work in groups of 2-5 people*\n",
      "\n",
      "Use the Logistic Regression classifier and the Fisher Linear Discriminant classifier that you have implemented in the previous tutorials to train and predict on this data. Split up the work, and use git to help manage your repository. Choose the best classifier (in your group) and submit a pull request."
     ]
    },
    {
     "cell_type": "markdown",
     "metadata": {},
     "source": [
      "## Extensions\n",
      "\n",
      "Due to the complicated nature of python package management, it is often useful to use virtual environments. In the labs, it is useful to have virtual environments such that you can install new python packages. In particular, set up a new virtual environment using [pyvenv](https://docs.python.org/3/library/venv.html). Inside this environment, you can install all your packages using ```pip```. You should at least do one of the following three extensions.\n",
      "\n",
      "*Choose the best classifier (in your group) and submit a pull request.*\n",
      "\n",
      "### (optional) Using scikit-learn\n",
      "\n",
      "*This option may require sudo access to install some dependencies.*\n",
      "\n",
      "[scikit-learn](http://scikit-learn.org/stable/install.html) has many [supervised learning methods](http://scikit-learn.org/stable/supervised_learning.html). Use the methods for binary classification to see whether you can get better predictions.\n",
      "\n",
      "### (optional) Exploring various feature construction methods\n",
      "\n",
      "You may wish to try out various ways of generating features for your classifier. Follow the [Kaggle tutorial](https://www.kaggle.com/c/word2vec-nlp-tutorial), which includes descriptions of using [deep learning](https://code.google.com/p/word2vec/) to find good features.\n",
      "\n",
      "### (optional) n-gram models\n",
      "\n",
      "The bag of words representation ignores the order that words appear in a paragraph. One way to model this is to include pairs or triplets of words (called bi-grams and tri-grams). You may find the [following tutorial](http://locallyoptimal.com/blog/2013/01/20/elegant-n-gram-generation-in-python/) useful for computing [n-grams](http://en.wikipedia.org/wiki/N-gram). The [Wikipedia article](http://en.wikipedia.org/wiki/N-gram) also gives some ideas for dealing with the zeros in your n-grams using smoothing."
     ]
    },
    {
     "cell_type": "code",
     "collapsed": false,
     "input": [],
     "language": "python",
     "metadata": {},
     "outputs": [],
     "prompt_number": 1
    }
   ],
   "metadata": {}
  }
 ]
}