{
 "metadata": {
  "name": ""
 },
 "nbformat": 3,
 "nbformat_minor": 0,
 "worksheets": [
  {
   "cells": [
    {
     "cell_type": "heading",
     "level": 1,
     "metadata": {},
     "source": [
      "Inference with Probabilistic Graphical Models"
     ]
    },
    {
     "cell_type": "heading",
     "level": 6,
     "metadata": {},
     "source": [
      "COMP4670/8600 - Introduction to Statistical Machine Learning - Assignment 2 (due: Monday, 18 May, 23:59)"
     ]
    },
    {
     "cell_type": "markdown",
     "metadata": {},
     "source": [
      "Name:\n",
      "\n",
      "Student ID:"
     ]
    },
    {
     "cell_type": "markdown",
     "metadata": {},
     "source": [
      "## Instructions\n",
      "\n",
      "|             |Notes|\n",
      "|:------------|:--|\n",
      "|Maximum marks| 20|\n",
      "|Weight|20% of final grade|\n",
      "|Format| Complete this ipython notebook. Do not forget to fill in your name and student ID above|\n",
      "|Submission mode| Use [wattle](https://wattle.anu.edu.au/)|\n",
      "|Formulas| All formulas which you derive need to be explained unless you use very common mathematical facts. Picture yourself as explaining your arguments to somebody who is just learning about your assignment. With other words, do not assume that the person marking your assignment knows all the background and therefore you can just write down the formulas without any explanation. It is your task to convince the reader that you know what you are doing when you derive an argument.|\n",
      "| Code quality | Python code should be well structured, use meaningful identifiers for variables and subroutines, and provide sufficient comments. Please refer to the examples given in the tutorials. |\n",
      "| Code efficiency | An efficient implementation of an algorithm uses fast subroutines provided by the language or additional libraries. For the purpose of implementing Machine Learning algorithms in this course, that means using the appropriate data structures provided by Python and in numpy/scipy (e.g. Linear Algebra and random generators). |\n",
      "| Late penalty | For every day (starts at midnight) after the deadline of an assignment, the mark will be reduced by 5%. No assignments shall be accepted if it is later than 10 days. | \n",
      "| Coorperation | All assignments must be done individually. Cheating and plagiarism will be dealt with in accordance with University procedures (please see the ANU policies on [Academic Honesty and Plagiarism](http://academichonesty.anu.edu.au)). Hence, for example, code for programming assignments must not be developed in groups, nor should code be shared. You are encouraged to broadly discuss ideas, approaches and techniques with a few other students, but not at a level of detail where specific solutions or implementation issues are described by anyone. If you choose to consult with other students, you will include the names of your discussion partners for each solution. If you have any questions on this, please ask the lecturer before you act. |\n",
      "| Solution | To be presented in the tutorials. |"
     ]
    },
    {
     "cell_type": "markdown",
     "metadata": {},
     "source": [
      "$\\newcommand{\\dotprod}[2]{\\left\\langle #1, #2 \\right\\rangle}$\n",
      "$\\newcommand{\\onevec}{\\mathbb{1}}$\n",
      "\n",
      "Setting up the environment"
     ]
    },
    {
     "cell_type": "code",
     "collapsed": false,
     "input": [
      "import matplotlib.pyplot as plt\n",
      "import numpy as np\n",
      "import pandas as pd\n",
      "%install_ext https://sml.forge.nicta.com.au/isml15/data/tikzmagic.py"
     ],
     "language": "python",
     "metadata": {},
     "outputs": []
    },
    {
     "cell_type": "code",
     "collapsed": false,
     "input": [
      "%load_ext tikzmagic\n",
      "%matplotlib inline"
     ],
     "language": "python",
     "metadata": {},
     "outputs": []
    },
    {
     "cell_type": "markdown",
     "metadata": {},
     "source": [
      "## Part 1: (4 points) Marginal and conditional probability\n",
      "\n",
      "At the end of Semester 1 of 2015, the results of a course at a university were released.\n",
      "The following table contains the numbers of students who passed and failed the course.\n",
      "\n",
      "|  | Passed | Failed |\n",
      "|--|:--:|:--:|\n",
      "| Women | 27 | 8 |\n",
      "| Men | 29 | 6 |\n",
      "\n",
      "### Part 1a: Men vs Women\n",
      "\n",
      "Compute the following probabilities (show details of your reasoning):\n",
      "* probability that a person passes the course\n",
      "* probability that a woman passes the course\n",
      "* probability that a man passes the course"
     ]
    },
    {
     "cell_type": "markdown",
     "metadata": {},
     "source": [
      "### Solution description\n"
     ]
    },
    {
     "cell_type": "markdown",
     "metadata": {},
     "source": [
      "### Part 1b: Including Bachelor and Master's level\n",
      "\n",
      "The dean is concerned that the lecturer may be failing a higher proportion of women than men in the course, so she investigates further and demands the numbers of students at the Bachelor and Master's level.\n",
      "\n",
      "|  | Passed | Failed |\n",
      "|--|:--:|:--:|\n",
      "| B.Sc Women | 8 | 1 |\n",
      "| B.Sc Men | 23 | 3 |\n",
      "| M.Sc Women | 19 | 7 |\n",
      "| M.Sc Men | 6 | 3 |\n",
      "\n",
      "Compute the following probabilities (show details of your reasoning):\n",
      "* probability that a B.Sc student passes the course\n",
      "* probability that a B.Sc woman passes the course\n",
      "* probability that a B.Sc man passes the course\n",
      "* probability that a M.Sc student passes the course\n",
      "* probability that a M.Sc woman passes the course\n",
      "* probability that a M.Sc man passes the course"
     ]
    },
    {
     "cell_type": "markdown",
     "metadata": {},
     "source": [
      "### Solution description\n"
     ]
    },
    {
     "cell_type": "markdown",
     "metadata": {},
     "source": [
      "### Part 1c: Interpreting results\n",
      "\n",
      "Given the probabilities of passing that you have computed in the two parts above, discuss whether women are more likely to pass the course compared to men.\n",
      "Explain how you came to your conclusion using the data that is presented above."
     ]
    },
    {
     "cell_type": "markdown",
     "metadata": {},
     "source": [
      "### Solution description\n"
     ]
    },
    {
     "cell_type": "markdown",
     "metadata": {},
     "source": [
      "### Part 1d: Computing conditional probability tables\n",
      "\n",
      "Compute the following conditional probability tables:\n",
      "* The probability of the level of the student (B.Sc or M.Sc) conditioned on the gender\n",
      "* The probability of the level of the student conditioned on whether the student passed"
     ]
    },
    {
     "cell_type": "markdown",
     "metadata": {},
     "source": [
      "### Solution description\n"
     ]
    },
    {
     "cell_type": "markdown",
     "metadata": {},
     "source": [
      "## Bayesian Network\n",
      "\n",
      "If you get Bronchitis, it is likely to cause Aches. Additionally it may be a severe Disease, especially if you have a Cough. Of course, not all Coughs result in a Disease, and some of them may be Fast healing. If your Disease is serious, it is likely to be an Emergency and you should head to hospital.\n",
      "\n",
      "Consider the following Bayesian Network that formalises the above scenario. It has the following variables:\n",
      "* **A**ches with states (False, True)\n",
      "* **B**ronchitis with states (none, mild, severe)\n",
      "* **C**ough with states (False, True)\n",
      "* **D**isease with states (healthy, carrier, sick, recovering)\n",
      "* **E**mergency with states (False, True)\n",
      "* **F**ast healing with states (False, True)"
     ]
    },
    {
     "cell_type": "code",
     "collapsed": false,
     "input": [
      "%%tikz --scale 2 --size 700,300 -f jpg\n",
      "\\tikzstyle{vertex}=[circle, draw=black, fill=white, line width=0.5mm, minimum size=25pt, inner sep=0pt]\n",
      "\\tikzstyle{edge} = [draw, line width=1mm, ->]\n",
      "\n",
      "\\node[vertex,label=left:{Aches}] (a) at (0,0) {};\n",
      "\\node[vertex,label=above:{Bronchitis}] (b) at (1,1) {};\n",
      "\\node[vertex,label=above:{Cough}] (c) at (3,1) {};\n",
      "\\node[vertex,label=left:{Disease}] (d) at (2,0) {};\n",
      "\\node[vertex,label=right:{Emergency}] (e) at (3,-1) {};\n",
      "\\node[vertex,label=right:{Fast healing}] (f) at (4,0) {};\n",
      "\n",
      "\\foreach \\source/ \\dest in {b/a, b/d, c/d, d/e, c/f}\n",
      "        \\path[edge] (\\source) -- (\\dest);"
     ],
     "language": "python",
     "metadata": {},
     "outputs": []
    },
    {
     "cell_type": "markdown",
     "metadata": {},
     "source": [
      "The conditional probabilities are given by the following tables.\n",
      "\n",
      "|$p(B)$ | B=n | B=m | B=s |\n",
      "|:-----:|:--:|:--:|:--:|\n",
      "|marginal| 0.97 | 0.01 | 0.02 |\n",
      "\n",
      "|$p(C)$ | C=False | C=True |\n",
      "|:-----:|:--:|:--:|\n",
      "|marginal| 0.7 | 0.3 |\n",
      "\n",
      "| $p(A|B)$ | B=n | B=m | B=s |\n",
      "|:-----:|:--:|:--:|:--:|\n",
      "|**A**=False |0.9|0.8|0.3|\n",
      "|**A**=True |0.1|0.2|0.7|\n",
      "\n",
      "| $p(D|B,C)$ | B=n, C=F | B=m, C=F | B=s, C=F | B=n, C=T | B=m, C=T | B=s, C=T |\n",
      "|:-----:|:--:|:--:|:--:|:--:|:--:|:--:|\n",
      "|**D**=healthy   |0.9 |0.8 |0.1 |  0.3 |0.4 |0.01|\n",
      "|**D**=carrier   |0.08|0.17|0.01|  0.05|0.05|0.01|\n",
      "|**D**=sick      |0.01|0.01|0.87|  0.05|0.15|0.97|\n",
      "|**D**=recovering|0.01|0.02|0.02|  0.6 |0.4 |0.01|\n",
      "\n",
      "| $p(E|D)$ | D=h | D=c | D=s | D=r |\n",
      "|:-----:|:--:|:--:|:--:|\n",
      "|**E**=False |0.99|0.99|0.4|0.9|\n",
      "|**E**=True |0.01|0.01|0.6|0.1|\n",
      "\n",
      "| $p(F|C)$ | C=False | C=True |\n",
      "|:-----:|:--:|:--:|\n",
      "|**F**=False |0.99|0.2|\n",
      "|**F**=True |0.01|0.8|"
     ]
    },
    {
     "cell_type": "markdown",
     "metadata": {},
     "source": [
      "## Part 2: (6 points) Markov Chain Monte Carlo\n",
      "\n",
      "We consider a special case of the Metropolis Hastings algorithm. \n",
      "Recall that the Metropolis Hastings algorithm uses the current sample to decide which next sample to produce.\n",
      "We use the proposal distribution which is the conditional distribution of a single variable, conditioned on the current state of all the other variables. We cycle through all the variables at each time step, updating the current state. That is for each step, we sample:\n",
      "* p(A | B,C,D,E,F)\n",
      "* p(B | A,C,D,E,F)\n",
      "* p(C | A,B,D,E,F)\n",
      "* p(D | A,B,C,E,F)\n",
      "* p(E | A,B,C,D,F)\n",
      "* p(F | A,B,C,D,E)\n",
      "\n",
      "After each sampling step, we use the sample as the new state of the variable.\n",
      "\n",
      "### Part 2a: Implement MCMC algorithm\n",
      "\n",
      "Implement this Markov chain Monte Carlo algorithm for the above graphical model. Use\n",
      "$$\n",
      "p(A=False, B=none, C=False, D=healthy, E=False, F=False)\n",
      "$$\n",
      "as the initial state.\n",
      "\n",
      "*Hint: You may find ```numpy.random.multinomial``` useful.*\n",
      "\n",
      "*Hint: Many of the proposal distributions can be simplified due to the structure of the graphical model.*"
     ]
    },
    {
     "cell_type": "code",
     "collapsed": false,
     "input": [
      "# Solution goes here"
     ],
     "language": "python",
     "metadata": {},
     "outputs": []
    },
    {
     "cell_type": "markdown",
     "metadata": {},
     "source": [
      "### Part 2b: Proposed algorithm is a valid MCMC method\n",
      "\n",
      "In the lectures, you have seen that Metropolis Hastings algorithms need to satisfy certain properties. State these properties and show that the proposed algorithm satisfies them."
     ]
    },
    {
     "cell_type": "markdown",
     "metadata": {},
     "source": [
      "### Solution description\n"
     ]
    },
    {
     "cell_type": "markdown",
     "metadata": {},
     "source": [
      "### Part 2c: Estimating probabilities\n",
      "\n",
      "Use the sampler you implemented above to get estimates of the probabilities below.\n",
      "Choose appropriate values for burn in and the number of samples to use for the empirical probabilities.\n",
      "Plot the empirical probabilities that you obtain for the following:\n",
      "* p(E)\n",
      "* p(E|B=s)\n",
      "* p(E|B=s, C=T)\n"
     ]
    },
    {
     "cell_type": "code",
     "collapsed": false,
     "input": [
      "# Solution goes here"
     ],
     "language": "python",
     "metadata": {},
     "outputs": []
    },
    {
     "cell_type": "markdown",
     "metadata": {},
     "source": [
      "## Part 3: (7 points) Message Passing\n",
      "\n",
      "In this section, we use the same distribution as above."
     ]
    },
    {
     "cell_type": "markdown",
     "metadata": {},
     "source": [
      "### Part 3a: Factor graph\n",
      "\n",
      "Draw the factor graph (in tikz) corresponding to the Bayesian Network above which that consists of the factors:\n",
      "\n",
      "* f(A,B)\n",
      "* f(B,C,D)\n",
      "* f(C)\n",
      "* f(D,E)\n",
      "* f(C,F)\n",
      "\n",
      "Write down the factors in terms of the conditional probability tables above.\n",
      "\n",
      "*The tikz code needs to be in a cell by itself.*"
     ]
    },
    {
     "cell_type": "code",
     "collapsed": false,
     "input": [
      "# Solution goes here"
     ],
     "language": "python",
     "metadata": {},
     "outputs": []
    },
    {
     "cell_type": "code",
     "collapsed": false,
     "input": [
      "# Solution goes here"
     ],
     "language": "python",
     "metadata": {},
     "outputs": []
    },
    {
     "cell_type": "markdown",
     "metadata": {},
     "source": [
      "### Part 3b: Messages at leaf nodes\n",
      "\n",
      "Implement the two functions corresponding to when the leaf nodes are variables and factors."
     ]
    },
    {
     "cell_type": "code",
     "collapsed": false,
     "input": [
      "# Solution goes here"
     ],
     "language": "python",
     "metadata": {},
     "outputs": []
    },
    {
     "cell_type": "markdown",
     "metadata": {},
     "source": [
      "### Part 3c: Messages at internal nodes\n",
      "\n",
      "Implement the two functions that compute the messages:\n",
      "* going from variable node to factor node\n",
      "* going from factor node to variable node\n",
      "\n",
      "The functions should be flexible enough to work with all the factors and variables with the same interface."
     ]
    },
    {
     "cell_type": "code",
     "collapsed": false,
     "input": [
      "# Solution goes here"
     ],
     "language": "python",
     "metadata": {},
     "outputs": []
    },
    {
     "cell_type": "markdown",
     "metadata": {},
     "source": [
      "### Part 3d: Estimating a marginal distribution\n",
      "\n",
      "Using the sum product algorithm that you have implemented, compute $p(E)$ for the graphical model above."
     ]
    },
    {
     "cell_type": "code",
     "collapsed": false,
     "input": [
      "# Solution goes here"
     ],
     "language": "python",
     "metadata": {},
     "outputs": []
    },
    {
     "cell_type": "markdown",
     "metadata": {},
     "source": [
      "## Part 4: (3 points) Interpreting results\n",
      "\n",
      "Given that you have a cough (i.e. $C=True$), should you go to the hospital? Justify your decision by comparing the probability of an emergency versus the probability of your cough being fast healing."
     ]
    },
    {
     "cell_type": "code",
     "collapsed": false,
     "input": [
      "# Solution goes here"
     ],
     "language": "python",
     "metadata": {},
     "outputs": []
    },
    {
     "cell_type": "markdown",
     "metadata": {},
     "source": [
      "### Solution description\n"
     ]
    },
    {
     "cell_type": "code",
     "collapsed": false,
     "input": [],
     "language": "python",
     "metadata": {},
     "outputs": []
    }
   ],
   "metadata": {}
  }
 ]
}