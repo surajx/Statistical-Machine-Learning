{
 "metadata": {
  "name": ""
 },
 "nbformat": 3,
 "nbformat_minor": 0,
 "worksheets": [
  {
   "cells": [
    {
     "cell_type": "heading",
     "level": 1,
     "metadata": {},
     "source": [
      "Sum Product Algorithm"
     ]
    },
    {
     "cell_type": "heading",
     "level": 6,
     "metadata": {},
     "source": [
      "COMP4670/8600 - Introduction to Statistical Machine Learning - Tutorial 7"
     ]
    },
    {
     "cell_type": "markdown",
     "metadata": {},
     "source": [
      "Setting up the environment"
     ]
    },
    {
     "cell_type": "code",
     "collapsed": false,
     "input": [
      "import numpy as np\n",
      "\n",
      "%install_ext https://sml.forge.nicta.com.au/isml15/data/tikzmagic.py"
     ],
     "language": "python",
     "metadata": {},
     "outputs": []
    },
    {
     "cell_type": "code",
     "collapsed": false,
     "input": [
      "%load_ext tikzmagic"
     ],
     "language": "python",
     "metadata": {},
     "outputs": []
    },
    {
     "cell_type": "markdown",
     "metadata": {},
     "source": [
      "The aim of this exercise is to implement the sum product algorithm on a chain graph."
     ]
    },
    {
     "cell_type": "markdown",
     "metadata": {},
     "source": [
      "## Distributive law\n",
      "\n",
      "The [distributive property](http://en.wikipedia.org/wiki/Distributive_property) can be used to save computation, and is the basis of message passing and dynamic programming. See an [anecdote](http://bibiserv.techfak.uni-bielefeld.de/dynprog/node3_mn.html) about camels.\n",
      "\n",
      "Consider the following equation:\n",
      "$$\n",
      "2*3 + 2*5 = 2 * (3+5)\n",
      "$$\n",
      "\n",
      "* How many mathematical operations (multiplications and additions) are on the left hand side?\n",
      "* How many mathematical operations are on the right hand side?\n",
      "\n",
      "Construct a larger example where there is even more computational savings."
     ]
    },
    {
     "cell_type": "markdown",
     "metadata": {},
     "source": [
      "### Solution description\n"
     ]
    },
    {
     "cell_type": "markdown",
     "metadata": {},
     "source": [
      "## Message passing\n",
      "\n",
      "Consider the following factor graph."
     ]
    },
    {
     "cell_type": "code",
     "collapsed": false,
     "input": [
      "%%tikz --scale 2 --size 700,100 -f jpg\n",
      "\\tikzstyle{rv}=[circle, draw=black, fill=white, line width=0.5mm, minimum size=25pt, inner sep=0pt]\n",
      "\\tikzstyle{factor}=[rectangle, draw=black, fill=white, line width=0.5mm, minimum size=15pt, inner sep=0pt]\n",
      "\\tikzstyle{edge} = [draw, line width=1mm]\n",
      "\n",
      "\\node[rv,label=above:{A}] (a) at (0,0) {};\n",
      "\\node[rv,label=above:{B}] (b) at (2,0) {};\n",
      "\\node[rv,label=above:{C}] (c) at (4,0) {};\n",
      "\n",
      "\\node[factor,label=below:{f(A,B)}] (f) at (1,0) {};\n",
      "\\node[factor,label=below:{g(B,C)}] (g) at (3,0) {};\n",
      "\\node[factor,label=below:{h(C)}] (h) at (5,0) {};\n",
      "\n",
      "\\foreach \\source/ \\dest in {a/f, f/b, b/g, g/c, c/h}\n",
      "        \\path[edge] (\\source) -- (\\dest);"
     ],
     "language": "python",
     "metadata": {},
     "outputs": []
    },
    {
     "cell_type": "markdown",
     "metadata": {},
     "source": [
      "The factors are given by the following tables:\n",
      "\n",
      "|f(A,B)  | A=$\\square$ | A=$\\bigcirc$ | A = $\\clubsuit$ | A = $\\heartsuit$ | A = $\\triangle$ |\n",
      "|--|:--:|:--:|:--:|:--:|:--:|\n",
      "|**B**=$p$|0.01|0.01|0.12|0.01|0.14|\n",
      "|**B**=$q$|0.03|0.15|0.01|0.01|0.01|\n",
      "|**B**=$r$|0.13|0.11|0.07|0.18|0.01|\n",
      "\n",
      "|g(B,C) | B=$p$ | B=$q$ | B=$r$ |\n",
      "|--|:--:|:--:|:--:|\n",
      "|**C**=$w$|0.05|0.06|0.07|\n",
      "|**C**=$x$|0.1|0.3|0.2|\n",
      "|**C**=$y$|0.03|0.02|0.1|\n",
      "|**C**=$z$|0.11|0.15|0.08|\n",
      "\n",
      "|  | h(C) |\n",
      "|--|:--:|\n",
      "|**C**=$w$|1.2|\n",
      "|**C**=$x$|3.2|\n",
      "|**C**=$y$|1.8|\n",
      "|**C**=$z$|2.3|\n",
      "\n",
      "Using the sum product algorithm, compute the marginal distribution of the random variable $B$.\n",
      "\n",
      "*Hint: Note that the factors are not normalised.*"
     ]
    },
    {
     "cell_type": "markdown",
     "metadata": {},
     "source": [
      "### Solution description\n"
     ]
    },
    {
     "cell_type": "code",
     "collapsed": false,
     "input": [
      "# Solution goes here"
     ],
     "language": "python",
     "metadata": {},
     "outputs": []
    }
   ],
   "metadata": {}
  }
 ]
}