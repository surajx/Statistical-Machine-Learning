{
 "metadata": {
  "name": ""
 },
 "nbformat": 3,
 "nbformat_minor": 0,
 "worksheets": [
  {
   "cells": [
    {
     "cell_type": "heading",
     "level": 1,
     "metadata": {},
     "source": [
      "Introduction to IPython notebooks"
     ]
    },
    {
     "cell_type": "heading",
     "level": 6,
     "metadata": {},
     "source": [
      "COMP4670/8600 - Introduction to Statistical Machine Learning - Tutorial 1A"
     ]
    },
    {
     "cell_type": "markdown",
     "metadata": {},
     "source": [
      "The first tutorial will introduce the *basic elements* for writing Python programs, and using [IPython notebook](http://ipython.org/notebook.html)s. All tutorials and assignments will be done using this format.\n",
      "\n",
      "*If you already know Python well, please work on Tutorial 1B \"Linear Algebra and Optimisation\".*\n"
     ]
    },
    {
     "cell_type": "heading",
     "level": 2,
     "metadata": {},
     "source": [
      "Python and Programming for Machine Learning"
     ]
    },
    {
     "cell_type": "markdown",
     "metadata": {},
     "source": [
      "The introduction will focus on the concepts necessary for writing small programs in Python for the purpose of Machine Learning. That means, we expect a user of the code will be a reasonable knowledgeable person. Therefore, we can *skip* most of the code a robust system would have to contain in order to *check* the input types, *verify* the input parameter ranges, and *make sure* that really nothing can go wrong when somebody else is using the code.\n",
      "Having said this, you are nevertheless encouraged to include some sanity tests into your code to avoid making simple errors which can cost you a lot of time to find.\n",
      "Some of the Python concepts discussed in the tutorial will be\n",
      "- Data types (bool, int, float, str, list, tuple, set, dict)\n",
      "- Operators\n",
      "- Data flow\n",
      "- Functions\n",
      "- Classes and objects\n",
      "- Modules and how to use them\n",
      "\n",
      "**We will be using [Python3](https://wiki.python.org/moin/Python2orPython3) in this course**.\n",
      "\n",
      "Some resources:\n",
      "- [CodeAcademy](http://www.codecademy.com/en/tracks/python) gives a step by step introduction to python\n",
      "- [How to think like a computer scientist](http://interactivepython.org/courselib/static/thinkcspy/index.html) does what it says, using Python\n",
      "\n",
      "## Installation\n",
      "\n",
      "The easiest way to get a working Python environment is using one of the following collections:\n",
      "- [Enthought canopy](https://store.enthought.com/)\n",
      "- [Anaconda](http://continuum.io/downloads)\n",
      "\n",
      "It is also not too difficult to install python using your favourite package manager and then use [pip](http://en.wikipedia.org/wiki/Pip_%28package_manager%29) to manage python packages."
     ]
    },
    {
     "cell_type": "heading",
     "level": 2,
     "metadata": {},
     "source": [
      "IPython Notebooks"
     ]
    },
    {
     "cell_type": "markdown",
     "metadata": {},
     "source": [
      "**To work on a worksheet or assignment, download the notebook and edit it locally.**\n",
      "\n",
      "[IPython notebook](http://ipython.org/notebook.html)s provide a convenient browser based environment for data analysis in a literate programming environment. The descriptive parts of the notebook implements an enhanced version of [markdown](http://daringfireball.net/projects/markdown/syntax), which allows the use of [LaTeX](http://www.latex-project.org/) for rendering equations.\n",
      "1. Descriptive notes\n",
      "   - Markdown\n",
      "   - LaTeX\n",
      "2. Computational code\n",
      "   - numerical python\n",
      "      * numpy\n",
      "      * scipy\n",
      "   - pandas\n",
      "   - matplotlib\n",
      "   \n",
      "To use a notebook locally:\n",
      "```bash\n",
      "ipython3 notebook name_of_file.ipynb\n",
      "```\n"
     ]
    },
    {
     "cell_type": "markdown",
     "metadata": {},
     "source": [
      "## Markdown and LaTeX\n",
      "\n",
      "In addition to lists and links which are already shown above, \n",
      "tables are also nice and easy\n",
      "\n",
      "|Title | Middle| Left aligned | Right aligned |\n",
      "|------|:-----:|:-----|--:|\n",
      "|Monday|10:00|Sunny|*30*|\n",
      "|Thursday|12:32|Rain|*22.3*|\n",
      "\n",
      "It is also easy to typeset good looking equations inline, such as $f(x) = x^2$, or on a line by itself.\n",
      "\\begin{equation}\n",
      "    g(x) = \\sum_{i=1}^n \\frac{\\prod_{j=1}^d y_j \\sqrt{3x_i^4}}{f(x_i)}\n",
      "\\end{equation}\n",
      "If you use a symbol often, you can define it at the top of a document as follows (look at source), and use it in equations.\n",
      "\n",
      "$\\newcommand{\\amazing}{\\sqrt{3x_i^4}}$\n",
      "\n",
      "\\begin{equation}\n",
      "    h(x) = \\sum_{i=1}^n \\amazing\n",
      "\\end{equation}\n",
      "\n",
      "## Computational code\n",
      "\n",
      "Setting up python environment ([do not use pylab](http://carreau.github.io/posts/10-No-PyLab-Thanks.ipynb.html))"
     ]
    },
    {
     "cell_type": "code",
     "collapsed": false,
     "input": [
      "import matplotlib.pyplot as plt\n",
      "import numpy as np\n",
      "import scipy as sp\n",
      "import pandas as pd\n",
      "pd.set_option('notebook_repr_html', True)\n",
      "\n",
      "%matplotlib inline"
     ],
     "language": "python",
     "metadata": {},
     "outputs": []
    },
    {
     "cell_type": "markdown",
     "metadata": {},
     "source": [
      "Some resources:\n",
      "* [Tentative NumPy Tutorial](http://wiki.scipy.org/Tentative_NumPy_Tutorial)\n",
      "* [SciPy Tutorial](http://docs.scipy.org/doc/scipy/reference/tutorial/)\n",
      "* [Matplotlib PyPlot Tutorial](http://matplotlib.org/1.3.1/users/pyplot_tutorial.html)\n",
      "* [Pandas Tutorials](http://pandas.pydata.org/pandas-docs/stable/tutorials.html) (especially [10 Minutes to Pandas (http://pandas.pydata.org/pandas-docs/stable/10min.html))\n"
     ]
    }
   ],
   "metadata": {}
  }
 ]
}