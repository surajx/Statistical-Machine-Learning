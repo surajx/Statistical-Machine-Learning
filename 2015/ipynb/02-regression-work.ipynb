{
 "metadata": {
  "name": ""
 },
 "nbformat": 3,
 "nbformat_minor": 0,
 "worksheets": [
  {
   "cells": [
    {
     "cell_type": "heading",
     "level": 1,
     "metadata": {},
     "source": [
      "Regression"
     ]
    },
    {
     "cell_type": "heading",
     "level": 6,
     "metadata": {},
     "source": [
      "COMP4670/8600 - Introduction to Statistical Machine Learning - Tutorial 2"
     ]
    },
    {
     "cell_type": "markdown",
     "metadata": {},
     "source": [
      "$\\newcommand{\\trace}[1]{\\operatorname{tr}\\left\\{#1\\right\\}}$\n",
      "$\\newcommand{\\Norm}[1]{\\lVert#1\\rVert}$\n",
      "$\\newcommand{\\RR}{\\mathbb{R}}$\n",
      "$\\newcommand{\\inner}[2]{\\langle #1, #2 \\rangle}$\n",
      "$\\newcommand{\\DD}{\\mathscr{D}}$\n",
      "$\\newcommand{\\grad}[1]{\\operatorname{grad}#1}$\n",
      "$\\DeclareMathOperator*{\\argmin}{arg\\,min}$\n",
      "\n",
      "Setting up the environment"
     ]
    },
    {
     "cell_type": "code",
     "collapsed": false,
     "input": [
      "import matplotlib.pyplot as plt\n",
      "import numpy as np\n",
      "import pandas as pd\n",
      "\n",
      "%matplotlib inline"
     ],
     "language": "python",
     "metadata": {},
     "outputs": []
    },
    {
     "cell_type": "markdown",
     "metadata": {},
     "source": [
      "## The data set\n",
      "\n",
      "We will use an old dataset on the price of housing in Boston (see [description](https://archive.ics.uci.edu/ml/datasets/Housing)). The aim is to predict the median value of the owner occupied homes from various other factors. We will use a normalised version of this data, where each row is an example. The median value of homes is given in the first column (the label) and the value of each subsequent feature has been normalised to be in the range $[-1,1]$. Download this dataset from [mldata.org](http://mldata.org/repository/data/download/csv/housing_scale/).\n",
      "\n",
      "Read in the data using pandas. The following concepts and routines could be useful (note that you may not need all of them):\n",
      "* [read_csv](http://pandas.pydata.org/pandas-docs/stable/io.html#io-read-csv-table) - use options header and names\n",
      "* [Indexing and Selecting](http://pandas.pydata.org/pandas-docs/stable/indexing.html)\n",
      "\n",
      "Check that the data is as expected using ```head()```. Remove the column containing the binary variable 'CHAS' using ```drop```, which should give you a DataFrame with 506 rows (examples) and 13 columns (1 label and 12 features)."
     ]
    },
    {
     "cell_type": "code",
     "collapsed": false,
     "input": [
      "# Solution goes here"
     ],
     "language": "python",
     "metadata": {},
     "outputs": []
    },
    {
     "cell_type": "code",
     "collapsed": false,
     "input": [
      "data.drop('chas', axis=1, inplace=True)\n",
      "data.shape"
     ],
     "language": "python",
     "metadata": {},
     "outputs": []
    },
    {
     "cell_type": "markdown",
     "metadata": {},
     "source": [
      "## Plotting\n",
      "\n",
      "Plotting is done using the [matplotlib](http://matplotlib.org/) toolbox. For example:"
     ]
    },
    {
     "cell_type": "code",
     "collapsed": false,
     "input": [
      "x = [0,1.2,2,3,5.1,7,8,9]\n",
      "y1 = [1.1,3,2,4,5,6,8.1,8.2]\n",
      "y2 = [4.2,4.2,4.1,5,6,3.2,4.8,6]\n",
      "fig = plt.figure(figsize=(11,5))\n",
      "ax = fig.add_subplot(121)\n",
      "ax.plot(x,y1,'b--')\n",
      "ax.plot(x,y1,'bs',label='y1')\n",
      "ax.plot(x,y2,'r:')\n",
      "ax.plot(x,y2,'r>',label='y2')\n",
      "ax.set_title('Some random data')\n",
      "ax.set_ylabel('labels')\n",
      "ax.legend(loc='upper left', numpoints=1)\n",
      "ax = fig.add_subplot(122)\n",
      "ax.plot(x,y1,'bo')\n",
      "ax.set_title('same data as before, without lines')\n",
      "ax.set_xlabel(r'examples (symbols, e.g. $\\alpha,\\beta,\\gamma$, works)')\n"
     ],
     "language": "python",
     "metadata": {},
     "outputs": []
    },
    {
     "cell_type": "markdown",
     "metadata": {},
     "source": [
      "Plot the median value of the property (vertical axis) versus the tax rate (horizontal axis)."
     ]
    },
    {
     "cell_type": "code",
     "collapsed": false,
     "input": [
      "# Solution goes here"
     ],
     "language": "python",
     "metadata": {},
     "outputs": []
    },
    {
     "cell_type": "markdown",
     "metadata": {},
     "source": [
      "## Regression without regularization\n",
      "\n",
      "Implement the sum of squares error function to find the maximum likelihood solution $w_{ML}$ for the regression problem. Implement subroutines for polynomial basis function of degree 2. See [expansion based on binomial formula](http://en.wikipedia.org/wiki/Polynomial_kernel)."
     ]
    },
    {
     "cell_type": "code",
     "collapsed": false,
     "input": [
      "# Solution goes here"
     ],
     "language": "python",
     "metadata": {},
     "outputs": []
    },
    {
     "cell_type": "markdown",
     "metadata": {},
     "source": [
      "## Training and testing\n",
      "\n",
      "Use half of the available data for training the model using maximum likelihood. The rest of the data is allocated to the test set. Report the root mean squared error (RMSE) for the training set and the test set."
     ]
    },
    {
     "cell_type": "code",
     "collapsed": false,
     "input": [
      "# Solution goes here"
     ],
     "language": "python",
     "metadata": {},
     "outputs": []
    },
    {
     "cell_type": "markdown",
     "metadata": {},
     "source": [
      "Using the standard basis function (no transformations), find the feature with the biggest weight. Plot two figures, one for the training set and one for the test set. In each figure, plot the label against the this most important feature. Also include a line showing your maximum likelihood predictor (*Hint: use* ```np.arange``` *to generate data*)."
     ]
    },
    {
     "cell_type": "code",
     "collapsed": false,
     "input": [
      "# Solution goes here"
     ],
     "language": "python",
     "metadata": {},
     "outputs": []
    },
    {
     "cell_type": "markdown",
     "metadata": {},
     "source": [
      "## Regression with regularization\n",
      "\n",
      "Implement the regularized least squares regression to find the maximum likelihood solution $w_{reg}$ with regularizer $\\lambda>0$. (Warning: the keyword ```lambda``` is a reserved word in Python)."
     ]
    },
    {
     "cell_type": "code",
     "collapsed": false,
     "input": [
      "# Solution goes here"
     ],
     "language": "python",
     "metadata": {},
     "outputs": []
    },
    {
     "cell_type": "markdown",
     "metadata": {},
     "source": [
      "Similar to the previous exercise, plot two figures showing the most important feature along with the label and prediction. Use $\\lambda = 1.1$."
     ]
    },
    {
     "cell_type": "code",
     "collapsed": false,
     "input": [
      "# Solution goes here"
     ],
     "language": "python",
     "metadata": {},
     "outputs": []
    },
    {
     "cell_type": "markdown",
     "metadata": {},
     "source": [
      "## Analysis of results\n",
      "\n",
      "Compare the RSME of regression with and without regularization. By also considering the plots, describe what you observe and explain your observations."
     ]
    },
    {
     "cell_type": "markdown",
     "metadata": {},
     "source": [
      "### Solution description\n"
     ]
    },
    {
     "cell_type": "markdown",
     "metadata": {},
     "source": [
      "## (optional) Exploration of basis functions and regularization parameter\n",
      "\n",
      "The choice of basis function as well as the value of the regularization parameter $\\lambda$ affects the performance of the predictor. Using the same training and test data as before, compute the different RMSE for:\n",
      "* The standard basis (as done above)\n",
      "* polynomial basis function of degree 2.\n",
      "* $\\lambda$ = [0.01, 0.1, 1, 10, 100]"
     ]
    },
    {
     "cell_type": "code",
     "collapsed": false,
     "input": [
      "# Solution goes here"
     ],
     "language": "python",
     "metadata": {},
     "outputs": []
    }
   ],
   "metadata": {}
  }
 ]
}