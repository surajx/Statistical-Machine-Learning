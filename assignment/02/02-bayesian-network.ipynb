{
 "cells": [
  {
   "cell_type": "markdown",
   "metadata": {},
   "source": [
    "# Inference and Reasoning with Bayesian Networks"
   ]
  },
  {
   "cell_type": "markdown",
   "metadata": {},
   "source": [
    "###### COMP4670/8600 - Introduction to Statistical Machine Learning - Assignment 2 (due: Monday, 16 May, 23:59)"
   ]
  },
  {
   "cell_type": "markdown",
   "metadata": {},
   "source": [
    "Name:\n",
    "\n",
    "Student ID:"
   ]
  },
  {
   "cell_type": "markdown",
   "metadata": {},
   "source": [
    "## Instructions\n",
    "\n",
    "|             |Notes|\n",
    "|:------------|:--|\n",
    "|Maximum marks| 20|\n",
    "|Weight|20% of final grade|\n",
    "|Format| Complete this ipython notebook. Do not forget to fill in your name and student ID above|\n",
    "|Submission mode| Use [wattle](https://wattle.anu.edu.au/)|\n",
    "|Formulas| All formulas which you derive need to be explained unless you use very common mathematical facts. Picture yourself as explaining your arguments to somebody who is just learning about your assignment. With other words, do not assume that the person marking your assignment knows all the background and therefore you can just write down the formulas without any explanation. It is your task to convince the reader that you know what you are doing when you derive an argument. Typeset all formulas in $\\LaTeX$.|\n",
    "| Code quality | Python code should be well structured, use meaningful identifiers for variables and subroutines, and provide sufficient comments. Please refer to the examples given in the tutorials. |\n",
    "| Code efficiency | An efficient implementation of an algorithm uses fast subroutines provided by the language or additional libraries. For the purpose of implementing Machine Learning algorithms in this course, that means using the appropriate data structures provided by Python and in numpy/scipy (e.g. Linear Algebra and random generators). |\n",
    "| Late penalty | For every day (starts at midnight) after the deadline of an assignment, the mark will be reduced by 5%. No assignments shall be accepted if it is later than 10 days. | \n",
    "| Coorperation | All assignments must be done individually. Cheating and plagiarism will be dealt with in accordance with University procedures (please see the ANU policies on [Academic Honesty and Plagiarism](http://academichonesty.anu.edu.au)). Hence, for example, code for programming assignments must not be developed in groups, nor should code be shared. You are encouraged to broadly discuss ideas, approaches and techniques with a few other students, but not at a level of detail where specific solutions or implementation issues are described by anyone. If you choose to consult with other students, you will include the names of your discussion partners for each solution. If you have any questions on this, please ask the lecturer before you act. |"
   ]
  },
  {
   "cell_type": "markdown",
   "metadata": {},
   "source": [
    "This assignment has two parts. In the first part, you reason using basic rules of probability to estimate the probability and likelihood of different events (maximum 7 marks). In the second part, you implement two different approaches to perform inference on a given Bayesian Network (maximum 13 marks). All formulas and calculations which are not part of Python code should be written using $\\LaTeX$."
   ]
  },
  {
   "cell_type": "markdown",
   "metadata": {},
   "source": [
    "$\\newcommand{\\dotprod}[2]{\\left\\langle #1, #2 \\right\\rangle}$\n",
    "$\\newcommand{\\onevec}{\\mathbb{1}}$\n",
    "\n",
    "Setting up the environment"
   ]
  },
  {
   "cell_type": "code",
   "execution_count": null,
   "metadata": {
    "collapsed": false
   },
   "outputs": [],
   "source": [
    "import matplotlib.pyplot as plt\n",
    "import numpy as np\n",
    "import pandas as pd\n",
    "\n",
    "%install_ext https://sml.forge.nicta.com.au/isml16/tutorial/tikzmagic.py"
   ]
  },
  {
   "cell_type": "code",
   "execution_count": null,
   "metadata": {
    "collapsed": false
   },
   "outputs": [],
   "source": [
    "%load_ext tikzmagic\n",
    "%matplotlib inline"
   ]
  },
  {
   "cell_type": "markdown",
   "metadata": {},
   "source": [
    "## Part 1: Reasoning and Sampling with Graphical Models\n",
    "\n",
    "### Problem setting\n",
    "\n",
    "We are interested to predict the outcome of the election in an imaginary country, called Under Some Assumptions (USA). There are four candidates for whom the citizens can **Vote** for: Bernie, Donald, Hillary, and Ted. The citizens live in four **Region**s: north, south, east and west. We have general demographic information about the people, namely: **Gender** (male, female) and **Hand**edness (right, left). Based on surveys done by an external company, we believe that the **Region** and **Gender** affects whether the people use their **Jacket**s full time, part time or never. Surprisingly, the company told us that the **Age** of their shoes (new, worn, old) depends on how often they wear their **Jacket**s. Furthermore, the **Gender** and their preferred **Hand** affects the **Colour** of their hat (white, black). Finally, surveys say that the citizens will **Vote** based on their **Region**, **Age** of their shoes and **Colour** of their hats.\n",
    "\n",
    "###  (1 mark) Draw the graphical model\n",
    "\n",
    "Based on this information, write the directed graphical model using tikz. Note that tikz code has to be in its own code cell.\n"
   ]
  },
  {
   "cell_type": "code",
   "execution_count": null,
   "metadata": {
    "collapsed": false
   },
   "outputs": [],
   "source": [
    "# Solution"
   ]
  },
  {
   "cell_type": "markdown",
   "metadata": {},
   "source": [
    "### Conditional probability tables\n",
    "\n",
    "After paying the survey firm some more money, they provided the following conditional probability tables.\n",
    "\n",
    "|$p(R)$ | R=n | R=s | R=e | R=w |\n",
    "|:-----:|:--:|:--:|:--:|:--:|\n",
    "|marginal| 0.2 | 0.1 | 0.5 | 0.2 |\n",
    "\n",
    "|$p(G)$ | G=m | G=f |\n",
    "|:-----:|:--:|:--:|\n",
    "|marginal| 0.3 | 0.7 |\n",
    "\n",
    "|$p(H)$ | H=r | H=l |\n",
    "|:-----:|:--:|:--:|\n",
    "|marginal| 0.9 | 0.1 |\n",
    "\n",
    "| $p(J|R,G)$ | R=n,G=m | R=n,G=f | R=s,G=m | R=s,G=f | R=e,G=m | R=e,G=f | R=w,G=m | R=w,G=f |\n",
    "|:-----:|:--:|:--:|:--:|:--:|:--:|:--:|:--:|:--:|\n",
    "|**J**=full $\\quad$  |0.9 |0.8 |0.1 | 0.3 |0.4 |0.01| 0.02 | 0.2  |\n",
    "|**J**=part $\\quad$  |0.08|0.17|0.03| 0.35|0.05|0.01| 0.2  | 0.08 |\n",
    "|**J**=never $\\quad$ |0.02|0.03|0.87| 0.35|0.55|0.98| 0.78 | 0.72 |\n",
    "\n",
    "| $p(A|J)$ | J=full | J=part | J=never |\n",
    "|:-----:|:--:|:--:|:--:|\n",
    "|**A**=new  |0.01|0.96|0.3|\n",
    "|**A**=worn |0.98|0.03|0.5|\n",
    "|**A**=old  |0.01|0.01|0.2|\n",
    "\n",
    "| $p(C|G,H)$ | G=m,H=r | G=m,H=l | G=f,H=r | G=f,H=l |\n",
    "|:-----:|:--:|:--:|:--:|:--:|\n",
    "|**C**=black $\\quad$ |0.9 |0.83 |0.17 | 0.3 |\n",
    "|**C**=white $\\quad$ |0.1 |0.17|0.83 | 0.7 |\n",
    "\n",
    "The final conditional probability table is given by the matrix below. The order of the rows are alphabetical, and the order of the columns are also given below.\n",
    "\n",
    "*Hint: The given column name format may not be the best way to code it.*"
   ]
  },
  {
   "cell_type": "code",
   "execution_count": null,
   "metadata": {
    "collapsed": true
   },
   "outputs": [],
   "source": [
    "column_names = ['north,new,black', 'north,new,white', 'north,worn,black', 'north,worn,white', \n",
    "                'north,old,black', 'north,old,white', 'south,new,black', 'south,new,white', \n",
    "                'south,worn,black', 'south,worn,white', 'south,old,black', 'south,old,white', \n",
    "                'east,new,black', 'east,new,white', 'east,worn,black', 'east,worn,white', \n",
    "                'east,old,black', 'east,old,white', 'west,new,black', 'west,new,white', \n",
    "                'west,worn,black', 'west,worn,white', 'west,old,black', 'west,old,white']\n",
    "\n",
    "VcRAC_vals = np.array([\n",
    "        [0.1,0.1,0.4,0.02,0.2,0.1,0.1,0.04,0.2,0.1,0.1 ,0.1,0.4 ,0.1 ,0.1,0.1 ,0.1,0.04,0.3,0.2,0.1,0.3,0.34,0.35],\n",
    "        [0.3,0.4,0.2,0.5 ,0.1,0.2,0.1,0.5 ,0.1,0.2,0.5 ,0.3,0.2 ,0.42,0.2,0.67,0.4,0.4 ,0.1,0.1,0.5,0.1,0.1 ,0.1],\n",
    "        [0.5,0.4,0.3,0.3 ,0.5,0.6,0.6,0.3 ,0.5,0.4,0.36,0.3,0.28,0.3 ,0.4,0.1 ,0.4,0.16,0.4,0.2,0.3,0.3,0.4 ,0.5],\n",
    "        [0.1,0.1,0.1,0.18,0.2,0.1,0.2,0.16,0.2,0.3,0.04,0.3,0.12,0.18,0.3,0.13,0.1,0.4 ,0.2,0.5,0.1,0.3,0.16,0.05]\n",
    "    ])\n"
   ]
  },
  {
   "cell_type": "markdown",
   "metadata": {},
   "source": [
    "### (1 mark) Encode the 7 distributions\n",
    "\n",
    "Encode the 7 conditional probability tables in python using ```pandas.Series``` and ```pandas.DataFrame```.\n",
    "\n",
    "Estimate the joint distribution of **Jacket**, **Region** and **Gender**. What is the the probability of full time **Jacket** usage among women in the west?"
   ]
  },
  {
   "cell_type": "code",
   "execution_count": null,
   "metadata": {
    "collapsed": false
   },
   "outputs": [],
   "source": [
    "# Solution"
   ]
  },
  {
   "cell_type": "markdown",
   "metadata": {},
   "source": [
    "### (3 marks) Naive sampling approach\n",
    "\n",
    "Implement the following sampling scheme:\n",
    "1. Order the nodes in the following fashion, R, G, H, J, A, C, V. Work through each node in order.\n",
    "2. For the first node R, draw a sample from p(R).\n",
    "3. For each subsequent node, draw a sample from the conditional distribution $p(X \\,|\\, parents(X))$ where $parents(X)$ are the parents of the variable $X$ in the graphical model.\n",
    "\n",
    "Your code should be modular, with appropriate use of (well documented) functions."
   ]
  },
  {
   "cell_type": "code",
   "execution_count": null,
   "metadata": {
    "collapsed": true
   },
   "outputs": [],
   "source": [
    "# Solution"
   ]
  },
  {
   "cell_type": "markdown",
   "metadata": {},
   "source": [
    "The sampler provides a sample from the joint distribution of all random variables. Why was the order in point 1. chosen? Are there other possible orders which achieve the same sampler? If yes, specify another one."
   ]
  },
  {
   "cell_type": "markdown",
   "metadata": {},
   "source": [
    "### Solution"
   ]
  },
  {
   "cell_type": "markdown",
   "metadata": {},
   "source": [
    "Write a small test case to check that your sampler is doing the right thing by using it to verify the sum rule and product rule of probability. You can do so by drawing many samples from both sides of each rule, and show that the proportion of each state is as expected."
   ]
  },
  {
   "cell_type": "code",
   "execution_count": null,
   "metadata": {
    "collapsed": true
   },
   "outputs": [],
   "source": [
    "# Solution"
   ]
  },
  {
   "cell_type": "markdown",
   "metadata": {},
   "source": [
    "### (2 marks) Estimating conditional probabilities\n",
    "\n",
    "Use your sampler above to estimate:\n",
    "1. the marginal probability of $p(V)$,\n",
    "2. the probability of women that vote for Hillary, $p(V=Hillary \\,|\\, G=female)$.\n",
    "\n",
    "Show a plot that describes the number of samples that are needed to estimate $p(V)$ accurately."
   ]
  },
  {
   "cell_type": "code",
   "execution_count": null,
   "metadata": {
    "collapsed": true
   },
   "outputs": [],
   "source": [
    "# Solution"
   ]
  },
  {
   "cell_type": "markdown",
   "metadata": {},
   "source": [
    "### (3 marks) Direct estimation of conditional probabilities\n",
    "\n",
    "Write down the expression of the joint probability $p(R,G,H,J,A,C,V)$ in terms of the conditional probabilities in the graphical model.\n",
    "\n",
    "Use the sum rule and product rule of probability to derive:\n",
    "* $p(V = Donald \\;\\,|\\, G = male)$\n",
    "* $p(G = male \\,|\\, V = Donald)$\n",
    "* the marginal probability of **Vote**s."
   ]
  },
  {
   "cell_type": "markdown",
   "metadata": {},
   "source": [
    "### Solution"
   ]
  },
  {
   "cell_type": "markdown",
   "metadata": {},
   "source": [
    "Using the encoding of the conditional probability tables in ```pandas.Series``` and ```pandas.DataFrame```, and your expressions above, calculate the desired conditional probability tables. Your code should be modular, with appropriate use of (well documented) functions."
   ]
  },
  {
   "cell_type": "code",
   "execution_count": null,
   "metadata": {
    "collapsed": true
   },
   "outputs": [],
   "source": [
    "# Solution"
   ]
  },
  {
   "cell_type": "markdown",
   "metadata": {},
   "source": [
    "Report the tables above in markdown."
   ]
  },
  {
   "cell_type": "markdown",
   "metadata": {},
   "source": [
    "### Solution"
   ]
  },
  {
   "cell_type": "markdown",
   "metadata": {},
   "source": [
    "### (3 marks) Estimating structure\n",
    "\n",
    "It turns out that the external company that we used to estimate the probabilities above did not do such a good job. There is reason to believe that the given graphical model above is wrong. However, it is believed that the true graphical model has more or less the same number of edges, and is sharing some conditional probability tables. In particular, assume that the conditional probability table for **Voting** conditioned on **Region**, **Age** and **Colour** remains the same. \n",
    "\n",
    "An enterprising student from the Amazing Neighbourhood University (ANU) obtained some data by polling. This data is available from [this website](https://sml.forge.nicta.com.au/isml16/assignments/poll-data.csv.gz). Use this data to identify a good graphical model.\n",
    "\n",
    "Show:\n",
    "1. The tikz image of the graphical model (this has to be in its own cell)\n",
    "2. The conditional probability tables as markdown\n",
    "\n",
    "Argue why the new graphical model that you estimated from the data is a good one.\n",
    "\n",
    "*A majority of marks are allocated for the method of finding the graphical model.*"
   ]
  },
  {
   "cell_type": "code",
   "execution_count": null,
   "metadata": {
    "collapsed": true
   },
   "outputs": [],
   "source": [
    "# Solution"
   ]
  },
  {
   "cell_type": "markdown",
   "metadata": {},
   "source": [
    "### Solution"
   ]
  },
  {
   "cell_type": "markdown",
   "metadata": {},
   "source": [
    "## Part 2: Analysis of algorithms\n",
    "\n",
    "### (4 marks) Incremental EM\n",
    "$\\newcommand{\\B}[1]{\\mathbf{#1}}$\n",
    "$\\newcommand{\\Btheta}{\\boldsymbol{\\mathsf{\\theta}}}$\n",
    "$\\newcommand{\\Cond}{\\,|\\,}$\n",
    "\n",
    "Given are $N$ independent data points $\\B{x}_1,\\dots,\\B{x}_N$ and a Gaussian mixture model with corresponding latent variables $\\B{z}_1,\\dots,\\B{z}_N$. As the joint distribution $p(\\B{X}, \\B{Z} \\Cond \\Btheta)$ factorises over the data points, one can develop an incremental form of EM in which only one data point is processed in each E- and M-step if the mixture component is a member of the exponential family. \n",
    "\n",
    "Consider a mixture of Gaussians. The update for the effective number of data points $N_k$ after having seen data point $\\B{x}_m$ can be derived as\n",
    "$$\n",
    "  N_k^\\text{new} = N_k^\\text{old} + \\gamma^\\text{new}(z_{mk}) - \\gamma^\\text{old}(z_{mk})\n",
    "$$\n",
    "\n",
    "1. Define $\\gamma^\\text{new}(z_{mk})$.\n",
    "- Prove the above given result for the update of $N_k$.\n",
    "- Develop the update formulas for the other parameters of the Gaussian mixture model: \n",
    "  - mixture coefficients $\\mathsf{\\pi}_k$, \n",
    "  - means $\\mathsf{\\mu}_k$, and \n",
    "  - covariances $\\mathsf{\\Sigma}_k$.\n",
    "- Define and explain two properties of this incremental EM algorithm which make it preferable method over batch EM."
   ]
  },
  {
   "cell_type": "markdown",
   "metadata": {},
   "source": [
    "### Solution"
   ]
  },
  {
   "cell_type": "markdown",
   "metadata": {},
   "source": [
    "### (3 marks) Sampling from a piecewise exponential distribution\n",
    "\n",
    "In the lecture we mentioned sampling from the *exponential distribution*\n",
    "given by\n",
    "$$\n",
    "  p(y) = \\lambda e^{-\\lambda y}.\n",
    "$$\n",
    "\n",
    "The *piecewise exponential distribution* is defined as\n",
    "$$\n",
    "  p(z) = k_m \\lambda_m e^{-\\lambda_m (z - z_{m-1})} \n",
    "         \\qquad \\qquad  \n",
    "         \\widehat{z}_{m-1,m} < z \\le \\widehat{z}_{m,m+1}\n",
    "$$\n",
    "where $ \\widehat{z}_{m-1, m} $ is the point of intersection of the tangent \n",
    "lines at $ z_{m-1} $ and $ z_m $,\n",
    "$ \\lambda_m $ is the slope of the tangent at $ z_m $ and \n",
    "$ k_m $ accounts for the corresponding offset.\n",
    "\n",
    "(a) Using the result for sampling from a single distribution,\n",
    "devise an algorithm for sampling from the piecewise \n",
    "distribution.\n",
    "\n",
    "(b) Given a desired distribution $ p(z) $, describe precisely how the \n",
    "piecewise exponential distribution can be used to sample from this\n",
    "distribution.\n",
    "\n",
    "(c) Explain how one can use rejected samples to better \n",
    "approximate the desired distribution $ p(z) $.\n",
    "\n"
   ]
  },
  {
   "cell_type": "markdown",
   "metadata": {},
   "source": [
    "### Solution"
   ]
  }
 ],
 "metadata": {
  "kernelspec": {
   "display_name": "Python 3",
   "language": "python",
   "name": "python3"
  },
  "language_info": {
   "codemirror_mode": {
    "name": "ipython",
    "version": 3
   },
   "file_extension": ".py",
   "mimetype": "text/x-python",
   "name": "python",
   "nbconvert_exporter": "python",
   "pygments_lexer": "ipython3",
   "version": "3.5.1"
  }
 },
 "nbformat": 4,
 "nbformat_minor": 0
}
